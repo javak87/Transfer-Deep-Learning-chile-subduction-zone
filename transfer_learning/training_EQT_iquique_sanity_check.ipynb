{
 "cells": [
  {
   "cell_type": "code",
   "execution_count": 148,
   "metadata": {},
   "outputs": [],
   "source": [
    "import seisbench.data as sbd\n",
    "import seisbench.generate as sbg\n",
    "import seisbench.models as sbm\n",
    "from seisbench.util import worker_seeding\n",
    "\n",
    "import numpy as np\n",
    "import matplotlib.pyplot as plt\n",
    "import torch\n",
    "import torch.nn as nn\n",
    "from torch.utils.data import DataLoader\n",
    "from obspy.clients.fdsn import Client\n",
    "from obspy import UTCDateTime\n",
    "from torchsummary import summary\n",
    "from pytorch_toolbelt import losses as L"
   ]
  },
  {
   "cell_type": "markdown",
   "metadata": {},
   "source": [
    "set seed to get reproducible results"
   ]
  },
  {
   "cell_type": "code",
   "execution_count": 149,
   "metadata": {},
   "outputs": [],
   "source": [
    "seed =20\n",
    "torch.backends.cudnn.deterministic= True\n",
    "torch.backends.cudnn.benchmark= False\n",
    "torch.manual_seed(seed)\n",
    "torch.cuda.manual_seed_all(seed)\n"
   ]
  },
  {
   "cell_type": "code",
   "execution_count": 150,
   "metadata": {},
   "outputs": [
    {
     "name": "stderr",
     "output_type": "stream",
     "text": [
      "2022-10-09 14:53:27,314 | seisbench | WARNING | Check available storage and memory before downloading and general use of Iquique dataset. Dataset size: waveforms.hdf5 ~5Gb, metadata.csv ~2.6Mb\n"
     ]
    },
    {
     "name": "stdout",
     "output_type": "stream",
     "text": [
      "Component order:\tZNE\n",
      "SeisBench model\t\tEQTransformer\n",
      "\n",
      "EQTransformer(\n",
      "  (encoder): Encoder(\n",
      "    (convs): ModuleList(\n",
      "      (0): Conv1d(3, 8, kernel_size=(11,), stride=(1,), padding=(5,))\n",
      "      (1): Conv1d(8, 16, kernel_size=(9,), stride=(1,), padding=(4,))\n",
      "      (2): Conv1d(16, 16, kernel_size=(7,), stride=(1,), padding=(3,))\n",
      "      (3): Conv1d(16, 32, kernel_size=(7,), stride=(1,), padding=(3,))\n",
      "      (4): Conv1d(32, 32, kernel_size=(5,), stride=(1,), padding=(2,))\n",
      "      (5): Conv1d(32, 64, kernel_size=(5,), stride=(1,), padding=(2,))\n",
      "      (6): Conv1d(64, 64, kernel_size=(3,), stride=(1,), padding=(1,))\n",
      "    )\n",
      "    (pools): ModuleList(\n",
      "      (0): MaxPool1d(kernel_size=2, stride=2, padding=0, dilation=1, ceil_mode=False)\n",
      "      (1): MaxPool1d(kernel_size=2, stride=2, padding=0, dilation=1, ceil_mode=False)\n",
      "      (2): MaxPool1d(kernel_size=2, stride=2, padding=0, dilation=1, ceil_mode=False)\n",
      "      (3): MaxPool1d(kernel_size=2, stride=2, padding=0, dilation=1, ceil_mode=False)\n",
      "      (4): MaxPool1d(kernel_size=2, stride=2, padding=0, dilation=1, ceil_mode=False)\n",
      "      (5): MaxPool1d(kernel_size=2, stride=2, padding=0, dilation=1, ceil_mode=False)\n",
      "      (6): MaxPool1d(kernel_size=2, stride=2, padding=0, dilation=1, ceil_mode=False)\n",
      "    )\n",
      "  )\n",
      "  (res_cnn_stack): ResCNNStack(\n",
      "    (members): ModuleList(\n",
      "      (0): ResCNNBlock(\n",
      "        (dropout): SpatialDropout1d(\n",
      "          (dropout): Dropout2d(p=0.1, inplace=False)\n",
      "        )\n",
      "        (norm1): BatchNorm1d(64, eps=0.001, momentum=0.1, affine=True, track_running_stats=True)\n",
      "        (conv1): Conv1d(64, 64, kernel_size=(3,), stride=(1,), padding=(1,))\n",
      "        (norm2): BatchNorm1d(64, eps=0.001, momentum=0.1, affine=True, track_running_stats=True)\n",
      "        (conv2): Conv1d(64, 64, kernel_size=(3,), stride=(1,), padding=(1,))\n",
      "      )\n",
      "      (1): ResCNNBlock(\n",
      "        (dropout): SpatialDropout1d(\n",
      "          (dropout): Dropout2d(p=0.1, inplace=False)\n",
      "        )\n",
      "        (norm1): BatchNorm1d(64, eps=0.001, momentum=0.1, affine=True, track_running_stats=True)\n",
      "        (conv1): Conv1d(64, 64, kernel_size=(3,), stride=(1,), padding=(1,))\n",
      "        (norm2): BatchNorm1d(64, eps=0.001, momentum=0.1, affine=True, track_running_stats=True)\n",
      "        (conv2): Conv1d(64, 64, kernel_size=(3,), stride=(1,), padding=(1,))\n",
      "      )\n",
      "      (2): ResCNNBlock(\n",
      "        (dropout): SpatialDropout1d(\n",
      "          (dropout): Dropout2d(p=0.1, inplace=False)\n",
      "        )\n",
      "        (norm1): BatchNorm1d(64, eps=0.001, momentum=0.1, affine=True, track_running_stats=True)\n",
      "        (conv1): Conv1d(64, 64, kernel_size=(3,), stride=(1,), padding=(1,))\n",
      "        (norm2): BatchNorm1d(64, eps=0.001, momentum=0.1, affine=True, track_running_stats=True)\n",
      "        (conv2): Conv1d(64, 64, kernel_size=(3,), stride=(1,), padding=(1,))\n",
      "      )\n",
      "      (3): ResCNNBlock(\n",
      "        (dropout): SpatialDropout1d(\n",
      "          (dropout): Dropout2d(p=0.1, inplace=False)\n",
      "        )\n",
      "        (norm1): BatchNorm1d(64, eps=0.001, momentum=0.1, affine=True, track_running_stats=True)\n",
      "        (conv1): Conv1d(64, 64, kernel_size=(3,), stride=(1,), padding=(1,))\n",
      "        (norm2): BatchNorm1d(64, eps=0.001, momentum=0.1, affine=True, track_running_stats=True)\n",
      "        (conv2): Conv1d(64, 64, kernel_size=(3,), stride=(1,), padding=(1,))\n",
      "      )\n",
      "      (4): ResCNNBlock(\n",
      "        (dropout): SpatialDropout1d(\n",
      "          (dropout): Dropout2d(p=0.1, inplace=False)\n",
      "        )\n",
      "        (norm1): BatchNorm1d(64, eps=0.001, momentum=0.1, affine=True, track_running_stats=True)\n",
      "        (conv1): Conv1d(64, 64, kernel_size=(2,), stride=(1,))\n",
      "        (norm2): BatchNorm1d(64, eps=0.001, momentum=0.1, affine=True, track_running_stats=True)\n",
      "        (conv2): Conv1d(64, 64, kernel_size=(2,), stride=(1,))\n",
      "      )\n",
      "      (5): ResCNNBlock(\n",
      "        (dropout): SpatialDropout1d(\n",
      "          (dropout): Dropout2d(p=0.1, inplace=False)\n",
      "        )\n",
      "        (norm1): BatchNorm1d(64, eps=0.001, momentum=0.1, affine=True, track_running_stats=True)\n",
      "        (conv1): Conv1d(64, 64, kernel_size=(3,), stride=(1,), padding=(1,))\n",
      "        (norm2): BatchNorm1d(64, eps=0.001, momentum=0.1, affine=True, track_running_stats=True)\n",
      "        (conv2): Conv1d(64, 64, kernel_size=(3,), stride=(1,), padding=(1,))\n",
      "      )\n",
      "      (6): ResCNNBlock(\n",
      "        (dropout): SpatialDropout1d(\n",
      "          (dropout): Dropout2d(p=0.1, inplace=False)\n",
      "        )\n",
      "        (norm1): BatchNorm1d(64, eps=0.001, momentum=0.1, affine=True, track_running_stats=True)\n",
      "        (conv1): Conv1d(64, 64, kernel_size=(2,), stride=(1,))\n",
      "        (norm2): BatchNorm1d(64, eps=0.001, momentum=0.1, affine=True, track_running_stats=True)\n",
      "        (conv2): Conv1d(64, 64, kernel_size=(2,), stride=(1,))\n",
      "      )\n",
      "    )\n",
      "  )\n",
      "  (bi_lstm_stack): BiLSTMStack(\n",
      "    (members): ModuleList(\n",
      "      (0): BiLSTMBlock(\n",
      "        (lstm): CustomLSTM(\n",
      "          (cell_f): ActivationLSTMCell()\n",
      "          (cell_b): ActivationLSTMCell()\n",
      "        )\n",
      "        (dropout): Dropout(p=0.1, inplace=False)\n",
      "        (conv): Conv1d(32, 16, kernel_size=(1,), stride=(1,))\n",
      "        (norm): BatchNorm1d(16, eps=0.001, momentum=0.1, affine=True, track_running_stats=True)\n",
      "      )\n",
      "      (1): BiLSTMBlock(\n",
      "        (lstm): CustomLSTM(\n",
      "          (cell_f): ActivationLSTMCell()\n",
      "          (cell_b): ActivationLSTMCell()\n",
      "        )\n",
      "        (dropout): Dropout(p=0.1, inplace=False)\n",
      "        (conv): Conv1d(32, 16, kernel_size=(1,), stride=(1,))\n",
      "        (norm): BatchNorm1d(16, eps=0.001, momentum=0.1, affine=True, track_running_stats=True)\n",
      "      )\n",
      "      (2): BiLSTMBlock(\n",
      "        (lstm): CustomLSTM(\n",
      "          (cell_f): ActivationLSTMCell()\n",
      "          (cell_b): ActivationLSTMCell()\n",
      "        )\n",
      "        (dropout): Dropout(p=0.1, inplace=False)\n",
      "        (conv): Conv1d(32, 16, kernel_size=(1,), stride=(1,))\n",
      "        (norm): BatchNorm1d(16, eps=0.001, momentum=0.1, affine=True, track_running_stats=True)\n",
      "      )\n",
      "    )\n",
      "  )\n",
      "  (transformer_d0): Transformer(\n",
      "    (attention): SeqSelfAttention()\n",
      "    (norm1): LayerNormalization()\n",
      "    (ff): FeedForward(\n",
      "      (lin1): Linear(in_features=16, out_features=128, bias=True)\n",
      "      (lin2): Linear(in_features=128, out_features=16, bias=True)\n",
      "      (dropout): Dropout(p=0.1, inplace=False)\n",
      "    )\n",
      "    (norm2): LayerNormalization()\n",
      "  )\n",
      "  (transformer_d): Transformer(\n",
      "    (attention): SeqSelfAttention()\n",
      "    (norm1): LayerNormalization()\n",
      "    (ff): FeedForward(\n",
      "      (lin1): Linear(in_features=16, out_features=128, bias=True)\n",
      "      (lin2): Linear(in_features=128, out_features=16, bias=True)\n",
      "      (dropout): Dropout(p=0.1, inplace=False)\n",
      "    )\n",
      "    (norm2): LayerNormalization()\n",
      "  )\n",
      "  (decoder_d): Decoder(\n",
      "    (upsample): Upsample(scale_factor=2.0, mode=nearest)\n",
      "    (convs): ModuleList(\n",
      "      (0): Conv1d(16, 64, kernel_size=(3,), stride=(1,), padding=(1,))\n",
      "      (1): Conv1d(64, 64, kernel_size=(5,), stride=(1,), padding=(2,))\n",
      "      (2): Conv1d(64, 32, kernel_size=(5,), stride=(1,), padding=(2,))\n",
      "      (3): Conv1d(32, 32, kernel_size=(7,), stride=(1,), padding=(3,))\n",
      "      (4): Conv1d(32, 16, kernel_size=(7,), stride=(1,), padding=(3,))\n",
      "      (5): Conv1d(16, 16, kernel_size=(9,), stride=(1,), padding=(4,))\n",
      "      (6): Conv1d(16, 8, kernel_size=(11,), stride=(1,), padding=(5,))\n",
      "    )\n",
      "  )\n",
      "  (conv_d): Conv1d(8, 1, kernel_size=(11,), stride=(1,), padding=(5,))\n",
      "  (dropout): Dropout(p=0.1, inplace=False)\n",
      "  (pick_lstms): ModuleList(\n",
      "    (0): CustomLSTM(\n",
      "      (cell_f): ActivationLSTMCell()\n",
      "    )\n",
      "    (1): CustomLSTM(\n",
      "      (cell_f): ActivationLSTMCell()\n",
      "    )\n",
      "  )\n",
      "  (pick_attentions): ModuleList(\n",
      "    (0): SeqSelfAttention()\n",
      "    (1): SeqSelfAttention()\n",
      "  )\n",
      "  (pick_decoders): ModuleList(\n",
      "    (0): Decoder(\n",
      "      (upsample): Upsample(scale_factor=2.0, mode=nearest)\n",
      "      (convs): ModuleList(\n",
      "        (0): Conv1d(16, 64, kernel_size=(3,), stride=(1,), padding=(1,))\n",
      "        (1): Conv1d(64, 64, kernel_size=(5,), stride=(1,), padding=(2,))\n",
      "        (2): Conv1d(64, 32, kernel_size=(5,), stride=(1,), padding=(2,))\n",
      "        (3): Conv1d(32, 32, kernel_size=(7,), stride=(1,), padding=(3,))\n",
      "        (4): Conv1d(32, 16, kernel_size=(7,), stride=(1,), padding=(3,))\n",
      "        (5): Conv1d(16, 16, kernel_size=(9,), stride=(1,), padding=(4,))\n",
      "        (6): Conv1d(16, 8, kernel_size=(11,), stride=(1,), padding=(5,))\n",
      "      )\n",
      "    )\n",
      "    (1): Decoder(\n",
      "      (upsample): Upsample(scale_factor=2.0, mode=nearest)\n",
      "      (convs): ModuleList(\n",
      "        (0): Conv1d(16, 64, kernel_size=(3,), stride=(1,), padding=(1,))\n",
      "        (1): Conv1d(64, 64, kernel_size=(5,), stride=(1,), padding=(2,))\n",
      "        (2): Conv1d(64, 32, kernel_size=(5,), stride=(1,), padding=(2,))\n",
      "        (3): Conv1d(32, 32, kernel_size=(7,), stride=(1,), padding=(3,))\n",
      "        (4): Conv1d(32, 16, kernel_size=(7,), stride=(1,), padding=(3,))\n",
      "        (5): Conv1d(16, 16, kernel_size=(9,), stride=(1,), padding=(4,))\n",
      "        (6): Conv1d(16, 8, kernel_size=(11,), stride=(1,), padding=(5,))\n",
      "      )\n",
      "    )\n",
      "  )\n",
      "  (pick_convs): ModuleList(\n",
      "    (0): Conv1d(8, 1, kernel_size=(11,), stride=(1,), padding=(5,))\n",
      "    (1): Conv1d(8, 1, kernel_size=(11,), stride=(1,), padding=(5,))\n",
      "  )\n",
      ")\n"
     ]
    }
   ],
   "source": [
    "#model = sbm.PhaseNet.from_pretrained(\"instance\")\n",
    "model = sbm.EQTransformer.from_pretrained(\"original\")\n",
    "#model = sbm.PhaseNet(phases=\"PSN\")\n",
    "model.cuda();\n",
    "data = sbd.Iquique(sampling_rate=100)\n",
    "train, dev, test = data.train_dev_test()\n",
    "print(model)\n",
    "#summary(model, (6000, 3))"
   ]
  },
  {
   "cell_type": "markdown",
   "metadata": {},
   "source": [
    "def convert_relu_to_softplus(model):\n",
    "    for child_name, child in model.named_children():\n",
    "        if isinstance(child, nn.Softmax):\n",
    "            setattr(model, child_name, nn.SiLU())\n",
    "        else:\n",
    "            convert_relu_to_softplus(child)\n",
    "\n",
    "new = convert_relu_to_softplus(model)\n",
    "print(model)"
   ]
  },
  {
   "cell_type": "markdown",
   "metadata": {},
   "source": [
    "for param in model.parameters():\n",
    "    param.requires_grad = False\n",
    "    #print(param.requires_grad)\n",
    "\n",
    "model.out.weight.requires_grad = True\n",
    "model.up4.weight.requires_grad = True\n",
    "#model.up3.weight.requires_grad = True\n",
    "#model.up2.weight.requires_grad = True\n",
    "#model.up1.weight.requires_grad = True\n",
    "#model.conv4.conv.weight.requires_grad = True\n",
    "#model.conv3.conv.weight.requires_grad = True\n",
    "\n",
    "#for param in model.parameters():\n",
    "    #param.requires_grad = False\n",
    "    #print(param.requires_grad)"
   ]
  },
  {
   "cell_type": "code",
   "execution_count": 151,
   "metadata": {},
   "outputs": [
    {
     "name": "stdout",
     "output_type": "stream",
     "text": [
      "{'X': (array([[198.29475309, 203.29475309, 210.29475309, ..., -28.70524691,\n",
      "        -43.70524691, -61.70524691],\n",
      "       [-67.81648663, -50.81648663, -49.81648663, ..., -91.81648663,\n",
      "        -80.81648663, -66.81648663],\n",
      "       [ 81.47247942,  66.47247942,  56.47247942, ..., -75.52752058,\n",
      "        -55.52752058, -43.52752058]]), {'source_origin_time': '2014-05-01T00:52:20.970000Z', 'source_latitude_deg': -19.4527, 'source_longitude_deg': -69.9762, 'source_depth_km': 57.95, 'path_back_azimuth_deg': 329.936310182, 'station_network_code': 'DG', 'station_code': 'IN17', 'trace_channel': 'HH*', 'station_location_code': nan, 'station_latitude_deg': -20.48, 'station_longitude_deg': -69.35, 'station_elevation_m': 1278.0, 'trace_name': 'bucket0$2,:3,:15552', 'trace_sampling_rate_hz': 100, 'trace_completeness': 1.0, 'trace_has_spikes': False, 'trace_start_time': '2014-05-01T00:52:20.740000Z', 'trace_P_arrival_sample': 2000.0, 'trace_S_arrival_sample': 3551.0, 'trace_name_original': 'DG.IN17.', 'trace_chunk': '', 'trace_component_order': 'ZNE', 'split': 'dev', 'trace_dt_s': 0.01, 'trace_npts': 15552})}\n"
     ]
    }
   ],
   "source": [
    "generator = sbg.GenericGenerator(data)\n",
    "\n",
    "@generator.augmentation\n",
    "def print_state_dict(state_dict):\n",
    "    print(state_dict)\n",
    "\n",
    "generator[2]['X'];"
   ]
  },
  {
   "cell_type": "code",
   "execution_count": 152,
   "metadata": {},
   "outputs": [],
   "source": [
    "phase_dict = {\n",
    "    \"trace_P_arrival_sample\": \"P\",\n",
    "    \"trace_S_arrival_sample\": \"S\",\n",
    "}"
   ]
  },
  {
   "cell_type": "code",
   "execution_count": 153,
   "metadata": {},
   "outputs": [],
   "source": [
    "train_generator = sbg.GenericGenerator(train)\n",
    "dev_generator = sbg.GenericGenerator(dev)\n",
    "test_generator = sbg.GenericGenerator(test)\n",
    "\n",
    "augmentations = [\n",
    "    sbg.WindowAroundSample(list(phase_dict.keys()), samples_before=3000, windowlen=9000, selection=\"random\", strategy=\"variable\"),\n",
    "    sbg.RandomWindow(windowlen=6000, strategy=\"pad\"),\n",
    "    sbg.Normalize(demean_axis=-1, amp_norm_axis=-1, amp_norm_type=\"peak\"),\n",
    "    sbg.ChangeDtype(np.float32),\n",
    "    sbg.ProbabilisticLabeller(label_columns=phase_dict, sigma=3, dim=0)\n",
    "]\n",
    "\n",
    "train_generator.add_augmentations(augmentations)\n",
    "dev_generator.add_augmentations(augmentations)\n",
    "test_generator.add_augmentations(augmentations)"
   ]
  },
  {
   "cell_type": "code",
   "execution_count": 154,
   "metadata": {},
   "outputs": [],
   "source": [
    "batch_size = 1\n",
    "num_workers = 1  # The number of threads used for loading data\n",
    "\n",
    "train_loader = DataLoader(train_generator, batch_size=batch_size, shuffle=True, num_workers=num_workers, worker_init_fn=worker_seeding)\n",
    "dev_loader = DataLoader(dev_generator, batch_size=batch_size, shuffle=False, num_workers=num_workers, worker_init_fn=worker_seeding)\n",
    "test_loader = DataLoader(test_generator, batch_size=batch_size, shuffle=False, num_workers=num_workers, worker_init_fn=worker_seeding)"
   ]
  },
  {
   "cell_type": "code",
   "execution_count": 155,
   "metadata": {},
   "outputs": [
    {
     "data": {
      "text/plain": [
       "<torch.utils.data.dataloader.DataLoader at 0x7fa0a9cbd030>"
      ]
     },
     "execution_count": 155,
     "metadata": {},
     "output_type": "execute_result"
    }
   ],
   "source": [
    "train_loader"
   ]
  },
  {
   "cell_type": "code",
   "execution_count": 156,
   "metadata": {},
   "outputs": [],
   "source": [
    "learning_rate = 1e-3\n",
    "epochs = 1\n",
    "loss_weight = torch.tensor([1, 1, 0.01]).to(model.device) # PSN\n",
    "loss_weight = torch.reshape(loss_weight, (1,3,1))\n",
    "\n",
    "optimizer = torch.optim.Adam(model.parameters(), lr=learning_rate)\n",
    "#scheduler = torch.optim.lr_scheduler.StepLR(optimizer, step_size=10, gamma=0.2)\n",
    "cross_ent = torch.nn.CrossEntropyLoss()\n",
    "\n",
    "\n",
    "def loss_fn(y_pred, y_true, eps=1e-5):\n",
    "    # vector cross entropy loss\n",
    "    #h = y_true * torch.log(y_pred + eps)\n",
    "    h = y_true * torch.log(y_pred + eps)\n",
    "    #print (h)\n",
    "    h = h.mean(-1).sum(-1)  # Mean along sample dimension and sum along pick dimension\n",
    "    h = h.mean()  # Mean over batch axis\n",
    "    return -h\n",
    "\n",
    "\n",
    "def fo_loss_fn(y_pred, y_true,gamma=3, eps=1e-5):\n",
    "    # vector cross entropy loss\n",
    "    #h = y_true * torch.log(y_pred + eps)\n",
    "    h = (1-y_true)**gamma * torch.log(y_pred + eps)\n",
    "    #print (h)\n",
    "    h = h.mean(-1).sum(-1)  # Mean along sample dimension and sum along pick dimension\n",
    "    h = h.mean()  # Mean over batch axis\n",
    "    return -h\n"
   ]
  },
  {
   "cell_type": "markdown",
   "metadata": {},
   "source": [
    "import torch\n",
    "import torch.nn.functional as F\n",
    "import torch.nn as nn\n",
    "\n",
    "class FocalLoss(nn.Module):\n",
    "    def __init__(self, alpha=1.0, gamma=2.0):\n",
    "        super(FocalLoss, self).__init__()\n",
    "        self.alpha = alpha\n",
    "        self.gamma = gamma\n",
    "    def forward(self, inputs, targets):\n",
    "        '''\n",
    "        :param inputs: batch_size * dim\n",
    "        :param targets: (batch,)\n",
    "        :return:\n",
    "        '''\n",
    "        bce_loss = F.cross_entropy(inputs, targets)\n",
    "        loss = self.alpha * (1 - torch.exp(-bce_loss)) ** self.gamma * bce_loss\n",
    "        return loss\n",
    "\n",
    "focal_loss = FocalLoss()"
   ]
  },
  {
   "cell_type": "code",
   "execution_count": 157,
   "metadata": {},
   "outputs": [],
   "source": [
    "from collections import Counter"
   ]
  },
  {
   "cell_type": "code",
   "execution_count": 158,
   "metadata": {},
   "outputs": [],
   "source": [
    "class DiceLoss(nn.Module):\n",
    "    def __init__(self):\n",
    "        super(DiceLoss, self).__init__()\n",
    "        self.a = torch.nn.parameter.Parameter(data = torch.tensor(1.), requires_grad = True)\n",
    "\n",
    "\n",
    "    def forward(self, outputs: torch.Tensor, labels: torch.Tensor):\n",
    "        \n",
    "        SMOOTH = 1e-1\n",
    "\n",
    "        n=torch.argmax(labels.to(model.device),axis=1)\n",
    "        m=torch.argmax(outputs,axis=1)\n",
    "        ####\n",
    "        #print(torch.unique(n))\n",
    "        #print('--------- labels-----------')\n",
    "        #print(torch.nn.functional.one_hot(n).sum (dim = 1))\n",
    "        #print('--------- Outputs-----------')\n",
    "        #print(torch.nn.functional.one_hot(m).sum (dim = 1))\n",
    "        ####\n",
    "        arg_labels_p =  torch.where(n == 0, 1, 0)\n",
    "        arg_outputs_p = torch.where(m == 0, 1, 0)\n",
    "    \n",
    "        intersection_p = torch.sum(arg_outputs_p * arg_labels_p)\n",
    "        #print(intersection_p)\n",
    "        union_p = (arg_outputs_p | arg_labels_p).float().sum()       \n",
    "        iou_p = (intersection_p + SMOOTH) / (union_p + SMOOTH) \n",
    "        #print(iou_p)\n",
    "        dic_loss_p = 1 - (2*iou_p)/(iou_p+1)\n",
    "        loss_p = torch.log(torch.cosh(dic_loss_p))\n",
    "        \n",
    "\n",
    "        arg_labels_s =  torch.where(n == 1, 1, 0)\n",
    "        arg_outputs_s = torch.where(m == 1, 1, 0)\n",
    "        \n",
    "        intersection_s = torch.sum(arg_outputs_s * arg_labels_s)\n",
    "        union_s = (arg_outputs_s | arg_labels_s).float().sum()       \n",
    "        iou_s = (intersection_s + SMOOTH) / (union_s + SMOOTH) \n",
    "        dic_loss_s = 1 - (2*iou_s)/(iou_s+1)\n",
    "        loss_s = torch.log(torch.cosh(dic_loss_s))\n",
    "        #loss = dic_loss_p + dic_loss_s\n",
    "        loss = loss_s + loss_p\n",
    "        \n",
    "        \n",
    "        loss = self.a*(loss)\n",
    "        print(loss)\n",
    "        return loss"
   ]
  },
  {
   "cell_type": "code",
   "execution_count": 159,
   "metadata": {},
   "outputs": [],
   "source": [
    "dic_loss = DiceLoss()\n",
    "#dic_loss = L.DiceLoss(mode = 'multiclass')"
   ]
  },
  {
   "cell_type": "code",
   "execution_count": 160,
   "metadata": {},
   "outputs": [
    {
     "data": {
      "text/plain": [
       "tensor(1.)"
      ]
     },
     "execution_count": 160,
     "metadata": {},
     "output_type": "execute_result"
    }
   ],
   "source": [
    "batch = next(iter(train_loader))\n",
    "batch['X'].max()"
   ]
  },
  {
   "cell_type": "code",
   "execution_count": 168,
   "metadata": {},
   "outputs": [],
   "source": [
    "def train_loop(dataloader,t):\n",
    "    model.train()\n",
    "    size = len(dataloader.dataset)\n",
    "    batch = next(iter(dataloader))\n",
    "    #for batch_id, batch in enumerate(dataloader):\n",
    "    # Compute prediction and loss\n",
    "    #print(batch[\"X\"].size())\n",
    "    pred = model(batch[\"X\"].to(model.device))\n",
    "    #v = -torch.mean(torch.sum(batch[\"X\"].view(batch_size, -1) * torch.log(pred.view(batch_size, -1)), dim=1))\n",
    "    third_tensor = torch.cat((pred[1], pred[2], 1-(pred[1]+pred[2])), 0).reshape(batch_size,3,6000)\n",
    "    print(torch.sum(third_tensor,1))\n",
    "    #loss = dic_loss(pred, batch[\"y\"].to(model.device))\n",
    "    loss =loss_fn(third_tensor, batch[\"y\"].to(model.device))\n",
    "    #loss = cross_ent(third_tensor, batch[\"y\"].to(model.device))\n",
    "    #if t % 10 == 0:\n",
    "    #    print(loss)\n",
    "\n",
    "    # Backpropagation\n",
    "    optimizer.zero_grad()\n",
    "    loss.backward()\n",
    "    optimizer.step()\n",
    "    #scheduler.step()\n",
    "    #print(torch.autograd.grad(loss, list(model.parameters())))\n",
    "    return loss\n",
    "    '''\n",
    "    if batch_id % 5 == 0:\n",
    "        loss, current = loss.item(), batch_id * batch[\"X\"].shape[0]\n",
    "        print(f\"loss: {loss:>7f}  [{current:>5d}/{size:>5d}]\")\n",
    "    '''    \n",
    "\n",
    "def test_loop(dataloader):\n",
    "    #num_batches = len(dataloader)\n",
    "    #test_loss = 0\n",
    "    model.eval()\n",
    "    batch = next(iter(dataloader))\n",
    "    with torch.no_grad():\n",
    "        #for batch in dataloader:\n",
    "        pred = model(batch[\"X\"].to(model.device))\n",
    "        third_tensor = torch.cat((pred[1], pred[2], 1-(pred[1]+pred[2])), 0).reshape(batch_size,3,6000)\n",
    "    \n",
    "        #loss = dic_loss(pred, batch[\"y\"].to(model.device))\n",
    "        test_loss =loss_fn(third_tensor, batch[\"y\"].to(model.device))\n",
    "        #test_loss= dic_loss(pred, batch[\"y\"].to(model.device)).item()\n",
    "        #test_loss = loss_fn(pred, batch[\"y\"].to(model.device)).item()\n",
    "\n",
    "    #test_loss /= num_batches\n",
    "    print(f\"Test avg loss: {test_loss:>8f} \\n\")\n",
    "    return test_loss\n",
    "    "
   ]
  },
  {
   "cell_type": "code",
   "execution_count": 169,
   "metadata": {},
   "outputs": [
    {
     "name": "stdout",
     "output_type": "stream",
     "text": [
      "tensor([[1., 1., 1.,  ..., 1., 1., 1.]], device='cuda:0',\n",
      "       grad_fn=<SumBackward1>)\n",
      "tensor([[1., 1., 1.,  ..., 1., 1., 1.]], device='cuda:0',\n",
      "       grad_fn=<SumBackward1>)\n"
     ]
    },
    {
     "data": {
      "text/plain": [
       "<matplotlib.legend.Legend at 0x7fa0a5383370>"
      ]
     },
     "execution_count": 169,
     "metadata": {},
     "output_type": "execute_result"
    },
    {
     "data": {
      "image/png": "[encoded data removed]",
      "text/plain": [
       "<Figure size 2160x576 with 1 Axes>"
      ]
     },
     "metadata": {
      "needs_background": "light"
     },
     "output_type": "display_data"
    }
   ],
   "source": [
    "import matplotlib.pyplot as plt\n",
    "tot_train_loss = np.zeros((1, epochs))\n",
    "tot_test_loss = np.zeros((1, epochs))\n",
    "for t in range(epochs):\n",
    "    #if t % 10 == 0:\n",
    "        #print(f\"Epoch {t+1}\\n-------------------------------\")\n",
    "    loss_train = train_loop(train_loader,t)\n",
    "    #print(loss_train)\n",
    "    for param in model.parameters():\n",
    "        if param.requires_grad == False:\n",
    "            print('grad_ouput doesnt have grad')\n",
    "    tot_train_loss[0,t]= loss_train.cpu().detach().numpy()\n",
    "    loss_test = train_loop(test_loader,t)\n",
    "    tot_test_loss[0,t]= loss_test.cpu().detach().numpy()\n",
    "    #print(loss.cpu().detach().numpy().tolist())\n",
    "    #break\n",
    "    \n",
    "\n",
    "plt.plot (tot_train_loss[0,:], label='train_loss')\n",
    "plt.plot (tot_test_loss[0,:], label='test_loss')\n",
    "plt.rcParams[\"figure.figsize\"] = (30,8)\n",
    "plt.xlabel('epochs', fontsize=20)\n",
    "plt.ylabel('loss', fontsize=20)\n",
    "plt.tick_params(axis='x', labelsize=16)\n",
    "plt.tick_params(axis='y', labelsize=16)\n",
    "plt.legend(loc='upper right')\n",
    "    #break\n",
    "    #model.eval()\n",
    "    #test_loop(dev_loader)\n",
    "    #test_loop(test_loader)"
   ]
  },
  {
   "cell_type": "code",
   "execution_count": null,
   "metadata": {},
   "outputs": [],
   "source": []
  },
  {
   "cell_type": "code",
   "execution_count": null,
   "metadata": {},
   "outputs": [],
   "source": []
  }
 ],
 "metadata": {
  "kernelspec": {
   "display_name": "Python 3.10.4 ('seisbench')",
   "language": "python",
   "name": "python3"
  },
  "language_info": {
   "codemirror_mode": {
    "name": "ipython",
    "version": 3
   },
   "file_extension": ".py",
   "mimetype": "text/x-python",
   "name": "python",
   "nbconvert_exporter": "python",
   "pygments_lexer": "ipython3",
   "version": "3.10.4"
  },
  "orig_nbformat": 4,
  "vscode": {
   "interpreter": {
    "hash": "b20746fb6b31a4a3c185d8dc9e67ee27e52a348cdb9134f10f5f04eafa28ce07"
   }
  }
 },
 "nbformat": 4,
 "nbformat_minor": 2
}
