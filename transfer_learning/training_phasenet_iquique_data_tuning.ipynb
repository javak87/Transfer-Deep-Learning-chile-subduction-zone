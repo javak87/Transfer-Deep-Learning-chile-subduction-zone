{
 "cells": [
  {
   "cell_type": "code",
   "execution_count": 1,
   "metadata": {},
   "outputs": [],
   "source": [
    "import seisbench.data as sbd\n",
    "import seisbench.generate as sbg\n",
    "import seisbench.models as sbm\n",
    "from seisbench.util import worker_seeding\n",
    "\n",
    "import numpy as np\n",
    "import matplotlib.pyplot as plt\n",
    "import torch\n",
    "import torch.nn as nn\n",
    "from torch.utils.data import DataLoader\n",
    "from obspy.clients.fdsn import Client\n",
    "from obspy import UTCDateTime\n",
    "from torchsummary import summary\n",
    "import pandas as pd\n"
   ]
  },
  {
   "cell_type": "markdown",
   "metadata": {},
   "source": [
    "set seed to get reproducible results"
   ]
  },
  {
   "cell_type": "code",
   "execution_count": 2,
   "metadata": {},
   "outputs": [],
   "source": [
    "seed =0\n",
    "torch.backends.cudnn.deterministic= True\n",
    "torch.backends.cudnn.benchmark= False\n",
    "torch.manual_seed(seed)\n",
    "torch.cuda.manual_seed_all(seed)\n"
   ]
  },
  {
   "cell_type": "code",
   "execution_count": 3,
   "metadata": {},
   "outputs": [],
   "source": [
    "model = sbm.PhaseNet.from_pretrained(\"instance\")\n",
    "#model = sbm.PhaseNet(phases=\"PSN\")\n",
    "\n",
    "model.cuda();\n",
    "#summary(model, (3, 3001))\n",
    "#sbm.PhaseNet.list_pretrained()"
   ]
  },
  {
   "cell_type": "code",
   "execution_count": 4,
   "metadata": {},
   "outputs": [
    {
     "name": "stdout",
     "output_type": "stream",
     "text": [
      "Component order:\tZNE\n",
      "SeisBench model\t\tPhaseNet\n",
      "\n",
      "PhaseNet(\n",
      "  (inc): Conv1d(3, 8, kernel_size=(1,), stride=(1,))\n",
      "  (in_bn): BatchNorm1d(8, eps=1e-05, momentum=0.1, affine=True, track_running_stats=True)\n",
      "  (conv1): Conv1dSame(\n",
      "    (conv): Conv1d(8, 11, kernel_size=(7,), stride=(4,), padding=(3,))\n",
      "  )\n",
      "  (bnd1): BatchNorm1d(11, eps=1e-05, momentum=0.1, affine=True, track_running_stats=True)\n",
      "  (conv2): Conv1dSame(\n",
      "    (conv): Conv1d(11, 16, kernel_size=(7,), stride=(4,), padding=(3,))\n",
      "  )\n",
      "  (bnd2): BatchNorm1d(16, eps=1e-05, momentum=0.1, affine=True, track_running_stats=True)\n",
      "  (conv3): Conv1dSame(\n",
      "    (conv): Conv1d(16, 22, kernel_size=(7,), stride=(4,), padding=(3,))\n",
      "  )\n",
      "  (bnd3): BatchNorm1d(22, eps=1e-05, momentum=0.1, affine=True, track_running_stats=True)\n",
      "  (conv4): Conv1dSame(\n",
      "    (conv): Conv1d(22, 32, kernel_size=(7,), stride=(4,), padding=(3,))\n",
      "  )\n",
      "  (bnd4): BatchNorm1d(32, eps=1e-05, momentum=0.1, affine=True, track_running_stats=True)\n",
      "  (up1): ConvTranspose1d(32, 22, kernel_size=(7,), stride=(4,), padding=(2,))\n",
      "  (bnu1): BatchNorm1d(22, eps=1e-05, momentum=0.1, affine=True, track_running_stats=True)\n",
      "  (up2): ConvTranspose1d(44, 16, kernel_size=(7,), stride=(4,), padding=(2,), output_padding=(1,))\n",
      "  (bnu2): BatchNorm1d(16, eps=1e-05, momentum=0.1, affine=True, track_running_stats=True)\n",
      "  (up3): ConvTranspose1d(32, 11, kernel_size=(7,), stride=(4,), padding=(2,))\n",
      "  (bnu3): BatchNorm1d(11, eps=1e-05, momentum=0.1, affine=True, track_running_stats=True)\n",
      "  (up4): ConvTranspose1d(22, 8, kernel_size=(7,), stride=(4,), padding=(3,))\n",
      "  (bnu4): BatchNorm1d(8, eps=1e-05, momentum=0.1, affine=True, track_running_stats=True)\n",
      "  (out): ConvTranspose1d(16, 3, kernel_size=(1,), stride=(1,))\n",
      "  (softmax): Identity()\n",
      ")\n"
     ]
    }
   ],
   "source": [
    "def remove_softmax(model):\n",
    "    for child_name, child in model.named_children():\n",
    "        if isinstance(child, nn.Softmax):\n",
    "            setattr(model, child_name, nn.Identity())\n",
    "        else:\n",
    "            remove_softmax(child)\n",
    "\n",
    "new = remove_softmax(model)\n",
    "print(model)"
   ]
  },
  {
   "cell_type": "markdown",
   "metadata": {},
   "source": [
    "for param in model.parameters():\n",
    "    param.requires_grad = False\n",
    "    #print(param.requires_grad)\n",
    "\n",
    "model.out.weight.requires_grad = True\n",
    "model.up4.weight.requires_grad = True\n",
    "#model.up3.weight.requires_grad = True\n",
    "#model.up2.weight.requires_grad = True\n",
    "#model.up1.weight.requires_grad = True\n",
    "#model.conv4.conv.weight.requires_grad = True\n",
    "#model.conv3.conv.weight.requires_grad = True\n",
    "\n",
    "#for param in model.parameters():\n",
    "    #param.requires_grad = False\n",
    "    #print(param.requires_grad)"
   ]
  },
  {
   "cell_type": "code",
   "execution_count": 5,
   "metadata": {},
   "outputs": [
    {
     "name": "stderr",
     "output_type": "stream",
     "text": [
      "2022-10-12 10:06:31,770 | seisbench | WARNING | Check available storage and memory before downloading and general use of Iquique dataset. Dataset size: waveforms.hdf5 ~5Gb, metadata.csv ~2.6Mb\n"
     ]
    }
   ],
   "source": [
    "from collections import Counter\n",
    "data = sbd.Iquique(sampling_rate=100)\n",
    "#data = sbd.ETHZ(sampling_rate=100)\n",
    "train, dev, test = data.train_dev_test()"
   ]
  },
  {
   "cell_type": "code",
   "execution_count": 6,
   "metadata": {},
   "outputs": [],
   "source": [
    "generator = sbg.GenericGenerator(data)\n",
    "\n",
    "@generator.augmentation\n",
    "def print_state_dict(state_dict):\n",
    "    print(state_dict)\n",
    "\n",
    "#generator[2]['X'];"
   ]
  },
  {
   "cell_type": "code",
   "execution_count": 7,
   "metadata": {},
   "outputs": [],
   "source": [
    "phase_dict = {\n",
    "    \"trace_P_arrival_sample\": \"P\",\n",
    "    \"trace_S_arrival_sample\": \"S\",\n",
    "}"
   ]
  },
  {
   "cell_type": "code",
   "execution_count": 8,
   "metadata": {},
   "outputs": [],
   "source": [
    "train_generator = sbg.GenericGenerator(train)\n",
    "dev_generator = sbg.GenericGenerator(dev)\n",
    "test_generator = sbg.GenericGenerator(test)\n",
    "\n",
    "augmentations = [\n",
    "    sbg.WindowAroundSample(list(phase_dict.keys()), samples_before=3000, windowlen=6000, selection=\"random\", strategy=\"variable\"),\n",
    "    sbg.RandomWindow(windowlen=3001, strategy=\"pad\"),\n",
    "    sbg.Normalize(demean_axis=-1, amp_norm_axis=-1, amp_norm_type=\"std\"),\n",
    "    sbg.ChangeDtype(np.float32),\n",
    "    sbg.ProbabilisticLabeller(label_columns=phase_dict, sigma=30, dim=0),\n",
    "    #sbg.ChannelDropout(),\n",
    "    #sbg.GaussianNoise(scale=(0, 0.08)),\n",
    "    #sbg.AddGap(),\n",
    "    #sbg.RandomArrayRotation()\n",
    "]\n",
    "\n",
    "train_generator.add_augmentations(augmentations)\n",
    "dev_generator.add_augmentations(augmentations)\n",
    "test_generator.add_augmentations(augmentations)"
   ]
  },
  {
   "cell_type": "code",
   "execution_count": 9,
   "metadata": {},
   "outputs": [],
   "source": [
    "batch_size = 256\n",
    "num_workers = 8  # The number of threads used for loading data\n",
    "\n",
    "train_loader = DataLoader(train_generator, batch_size=batch_size, shuffle=True, num_workers=num_workers, worker_init_fn=worker_seeding)\n",
    "dev_loader = DataLoader(dev_generator, batch_size=batch_size, shuffle=False, num_workers=num_workers, worker_init_fn=worker_seeding)\n",
    "test_loader = DataLoader(test_generator, batch_size=batch_size, shuffle=False, num_workers=num_workers, worker_init_fn=worker_seeding)"
   ]
  },
  {
   "cell_type": "code",
   "execution_count": 10,
   "metadata": {},
   "outputs": [],
   "source": [
    "from collections import Counter\n",
    "#print(dict(Counter(train_loader.batch_sampler)))"
   ]
  },
  {
   "cell_type": "code",
   "execution_count": 11,
   "metadata": {},
   "outputs": [],
   "source": [
    "learning_rate = 1e-3\n",
    "epochs = 3\n",
    "loss_weight = torch.tensor([1, 1, 0.01]).to(model.device) # PSN\n",
    "#loss_weight = torch.reshape(loss_weight, (1,3,1))\n",
    "\n",
    "optimizer = torch.optim.Adam(model.parameters(), lr=learning_rate)\n",
    "#scheduler = torch.optim.lr_scheduler.StepLR(optimizer, step_size=10, gamma=0.2)\n",
    "#ross_ent = torch.nn.CrossEntropyLoss()\n",
    "weights = torch.FloatTensor([1.0, 1.0, 0.001]).to(model.device)\n",
    "#weights = torch.reshape(loss_weight, (1,3,1))\n",
    "#criterion = nn.BCELoss(weight=weights)\n",
    "criterion = nn.CrossEntropyLoss(weight=weights)\n",
    "\n",
    "\n",
    "def loss_fn(y_pred, y_true, eps=1e-5):\n",
    "    # vector cross entropy loss\n",
    "    #h = y_true * torch.log(y_pred + eps)\n",
    "    h = loss_weight*y_true * torch.log(y_pred + eps)\n",
    "    #print (h)\n",
    "    h = h.mean(-1).sum(-1)  # Mean along sample dimension and sum along pick dimension\n",
    "    h = h.mean()  # Mean over batch axis\n",
    "    return -h"
   ]
  },
  {
   "cell_type": "markdown",
   "metadata": {},
   "source": [
    "import torch\n",
    "import torch.nn.functional as F\n",
    "import torch.nn as nn\n",
    "\n",
    "class FocalLoss(nn.Module):\n",
    "    def __init__(self, alpha=1.0, gamma=2.0):\n",
    "        super(FocalLoss, self).__init__()\n",
    "        self.alpha = alpha\n",
    "        self.gamma = gamma\n",
    "    def forward(self, inputs, targets):\n",
    "        '''\n",
    "        :param inputs: batch_size * dim\n",
    "        :param targets: (batch,)\n",
    "        :return:\n",
    "        '''\n",
    "        bce_loss = F.cross_entropy(inputs, targets)\n",
    "        loss = self.alpha * (1 - torch.exp(-bce_loss)) ** self.gamma * bce_loss\n",
    "        return loss\n",
    "\n",
    "focal_loss = FocalLoss()"
   ]
  },
  {
   "cell_type": "code",
   "execution_count": 12,
   "metadata": {},
   "outputs": [],
   "source": [
    "class DiceLoss(nn.Module):\n",
    "    def __init__(self):\n",
    "        super(DiceLoss, self).__init__()\n",
    "        self.a = torch.nn.parameter.Parameter(data = torch.tensor(1.), requires_grad = True)\n",
    "\n",
    "\n",
    "    def forward(self, outputs: torch.Tensor, labels: torch.Tensor):\n",
    "        \n",
    "        SMOOTH = 1e-1\n",
    "\n",
    "        n=torch.argmax(labels.to(model.device),axis=1)\n",
    "        m=torch.argmax(outputs,axis=1)\n",
    "        ####\n",
    "        #print(torch.unique(n))\n",
    "        #print('--------- labels-----------')\n",
    "        #print(torch.nn.functional.one_hot(n).sum (dim = 1))\n",
    "        #print('--------- Outputs-----------')\n",
    "        #print(torch.nn.functional.one_hot(m).sum (dim = 1))\n",
    "        ####\n",
    "        arg_labels_p =  torch.where(n == 0, 1, 0)\n",
    "        arg_outputs_p = torch.where(m == 0, 1, 0)\n",
    "    \n",
    "        intersection_p = torch.sum(arg_outputs_p * arg_labels_p)\n",
    "        #print(intersection_p)\n",
    "        union_p = (arg_outputs_p | arg_labels_p).float().sum()       \n",
    "        iou_p = (intersection_p + SMOOTH) / (union_p + SMOOTH) \n",
    "        #print(iou_p)\n",
    "        dic_loss_p = 1 - (2*iou_p)/(iou_p+1)\n",
    "        loss_p = torch.log(torch.cosh(dic_loss_p))\n",
    "        \n",
    "\n",
    "        arg_labels_s =  torch.where(n == 1, 1, 0)\n",
    "        arg_outputs_s = torch.where(m == 1, 1, 0)\n",
    "        \n",
    "        intersection_s = torch.sum(arg_outputs_s * arg_labels_s)\n",
    "        union_s = (arg_outputs_s | arg_labels_s).float().sum()       \n",
    "        iou_s = (intersection_s + SMOOTH) / (union_s + SMOOTH) \n",
    "        dic_loss_s = 1 - (2*iou_s)/(iou_s+1)\n",
    "        loss_s = torch.log(torch.cosh(dic_loss_s))\n",
    "        #loss = dic_loss_p + dic_loss_s\n",
    "        loss = loss_s + loss_p\n",
    "        \n",
    "        \n",
    "        loss = self.a*(loss)\n",
    "        return loss\n",
    "\n",
    "dic_loss = DiceLoss()"
   ]
  },
  {
   "cell_type": "code",
   "execution_count": 13,
   "metadata": {},
   "outputs": [],
   "source": [
    "from data_preprocessing import Data_Preprocessing\n",
    "from picks_comparison import Picks_Comparison\n",
    "def phase_accuracy():\n",
    "    start_year_analysis = 2012\n",
    "    start_day_analysis = 182\n",
    "    end_year_analysis = 2012\n",
    "    end_day_analysis = 182\n",
    "    time_lag_threshold = 450\n",
    "    P_th = 0.3\n",
    "    S_th = 0.15\n",
    "\n",
    "    obj = Data_Preprocessing (start_year_analysis, start_day_analysis,\n",
    "                        end_year_analysis, end_day_analysis)\n",
    "\n",
    "    stream = obj.get_waveforms_chile()\n",
    "    #client = Client(\"GFZ\")\n",
    "    #stream = sbm.DeepDenoiser.from_pretrained(\"original\").annotate(stream)\n",
    "\n",
    "    picks,detection = model.classify(stream, batch_size=256, P_threshold=P_th, S_threshold=S_th, parallelism=1)\n",
    "\n",
    "\n",
    "    pick_df = []\n",
    "    for p in picks:\n",
    "        pick_df.append({\n",
    "            \"id\": p.trace_id,\n",
    "            \"timestamp\": p.peak_time.datetime,\n",
    "            \"prob\": p.peak_value,\n",
    "            \"type\": p.phase.lower()\n",
    "        })\n",
    "\n",
    "    event_picks = pd.DataFrame(pick_df)\n",
    "\n",
    "\n",
    "\n",
    "    picks_obj = Picks_Comparison (start_year_analysis, \n",
    "                start_day_analysis,\n",
    "                end_year_analysis,\n",
    "                end_day_analysis, event_picks)\n",
    "\n",
    "    all_dists_p, all_dists_s = picks_obj()\n",
    "\n",
    "    p_picks_acc = all_dists_p[np.abs(all_dists_p) < 450]/1000\n",
    "    s_picks_acc = all_dists_s[np.abs(all_dists_s) < 450]/1000\n",
    "    return len(p_picks_acc)/len(all_dists_p), len(s_picks_acc)/len(all_dists_s)"
   ]
  },
  {
   "cell_type": "code",
   "execution_count": 14,
   "metadata": {},
   "outputs": [],
   "source": [
    "def train_loop(dataloader):\n",
    "    train_loss = 0\n",
    "    size = len(dataloader.dataset)\n",
    "    print(size)\n",
    "    #batch = next(iter(dataloader))\n",
    "    i = 0\n",
    "    for batch_id, batch in enumerate(dataloader):\n",
    "\n",
    "        # Compute prediction and loss\n",
    "        pred = model(batch[\"X\"].to(model.device))\n",
    "        loss= criterion(pred.float(), batch[\"y\"].to(model.device).float())\n",
    "\n",
    "        train_loss +=  loss\n",
    "\n",
    "        if batch_id % 5 == 0:\n",
    "            loss, current = loss.item(), batch_id * batch[\"X\"].shape[0]\n",
    "            print(f\"loss: {loss:>7f}  [{current:>5d}/{size:>5d}]\")\n",
    "\n",
    "        # Backpropagation\n",
    "        optimizer.zero_grad()\n",
    "        loss.backward()\n",
    "        optimizer.step()\n",
    "        \n",
    "\n",
    "\n",
    "        i += 1\n",
    "    train_loss /= i\n",
    "    print('-------------------------------------')\n",
    "    print(f\"Train avg loss: {train_loss:>8f} \\n\")\n",
    "    return  train_loss  \n",
    "\n",
    "def test_loop(dataloader):\n",
    "    num_batches = len(dataloader)\n",
    "    test_loss = 0\n",
    "\n",
    "    with torch.no_grad():\n",
    "        for batch in dataloader:\n",
    "            pred = model(batch[\"X\"].to(model.device))\n",
    "            #test_loss += dic_loss(pred, batch[\"y\"].to(model.device)).item()\n",
    "            #test_loss += loss_fn(pred, batch[\"y\"].to(model.device)).item()\n",
    "            test_loss += criterion(pred.float(), batch[\"y\"].to(model.device).float())\n",
    "\n",
    "    test_loss /= num_batches\n",
    "    print('-------------------------------------')\n",
    "    print(f\"Test avg loss: {test_loss:>8f} \\n\")\n",
    "    return test_loss"
   ]
  },
  {
   "cell_type": "code",
   "execution_count": 15,
   "metadata": {},
   "outputs": [
    {
     "name": "stdout",
     "output_type": "stream",
     "text": [
      "Epoch 1\n",
      "-------------------------------\n",
      "8040\n",
      "loss: 0.079795  [    0/ 8040]\n"
     ]
    },
    {
     "ename": "AttributeError",
     "evalue": "'float' object has no attribute 'backward'",
     "output_type": "error",
     "traceback": [
      "\u001b[0;31m---------------------------------------------------------------------------\u001b[0m",
      "\u001b[0;31mAttributeError\u001b[0m                            Traceback (most recent call last)",
      "\u001b[1;32m/home/javak/Transfer-Deep-Learning-chile-subduction-zone/transfer_learning/training_phasenet_iquique_data_tuning.ipynb Cell 18\u001b[0m in \u001b[0;36m<cell line: 5>\u001b[0;34m()\u001b[0m\n\u001b[1;32m      <a href='vscode-notebook-cell:/home/javak/Transfer-Deep-Learning-chile-subduction-zone/transfer_learning/training_phasenet_iquique_data_tuning.ipynb#X23sZmlsZQ%3D%3D?line=4'>5</a>\u001b[0m \u001b[39mfor\u001b[39;00m t \u001b[39min\u001b[39;00m \u001b[39mrange\u001b[39m(epochs):\n\u001b[1;32m      <a href='vscode-notebook-cell:/home/javak/Transfer-Deep-Learning-chile-subduction-zone/transfer_learning/training_phasenet_iquique_data_tuning.ipynb#X23sZmlsZQ%3D%3D?line=5'>6</a>\u001b[0m     \u001b[39mprint\u001b[39m(\u001b[39mf\u001b[39m\u001b[39m\"\u001b[39m\u001b[39mEpoch \u001b[39m\u001b[39m{\u001b[39;00mt\u001b[39m+\u001b[39m\u001b[39m1\u001b[39m\u001b[39m}\u001b[39;00m\u001b[39m\\n\u001b[39;00m\u001b[39m-------------------------------\u001b[39m\u001b[39m\"\u001b[39m)\n\u001b[0;32m----> <a href='vscode-notebook-cell:/home/javak/Transfer-Deep-Learning-chile-subduction-zone/transfer_learning/training_phasenet_iquique_data_tuning.ipynb#X23sZmlsZQ%3D%3D?line=6'>7</a>\u001b[0m     train_loss \u001b[39m=\u001b[39m train_loop(train_loader)\n\u001b[1;32m      <a href='vscode-notebook-cell:/home/javak/Transfer-Deep-Learning-chile-subduction-zone/transfer_learning/training_phasenet_iquique_data_tuning.ipynb#X23sZmlsZQ%3D%3D?line=7'>8</a>\u001b[0m     tot_train_loss[\u001b[39m0\u001b[39m,t]\u001b[39m=\u001b[39m train_loss\n\u001b[1;32m      <a href='vscode-notebook-cell:/home/javak/Transfer-Deep-Learning-chile-subduction-zone/transfer_learning/training_phasenet_iquique_data_tuning.ipynb#X23sZmlsZQ%3D%3D?line=8'>9</a>\u001b[0m     model\u001b[39m.\u001b[39meval()\n",
      "\u001b[1;32m/home/javak/Transfer-Deep-Learning-chile-subduction-zone/transfer_learning/training_phasenet_iquique_data_tuning.ipynb Cell 18\u001b[0m in \u001b[0;36mtrain_loop\u001b[0;34m(dataloader)\u001b[0m\n\u001b[1;32m     <a href='vscode-notebook-cell:/home/javak/Transfer-Deep-Learning-chile-subduction-zone/transfer_learning/training_phasenet_iquique_data_tuning.ipynb#X23sZmlsZQ%3D%3D?line=18'>19</a>\u001b[0m \u001b[39m# Backpropagation\u001b[39;00m\n\u001b[1;32m     <a href='vscode-notebook-cell:/home/javak/Transfer-Deep-Learning-chile-subduction-zone/transfer_learning/training_phasenet_iquique_data_tuning.ipynb#X23sZmlsZQ%3D%3D?line=19'>20</a>\u001b[0m optimizer\u001b[39m.\u001b[39mzero_grad()\n\u001b[0;32m---> <a href='vscode-notebook-cell:/home/javak/Transfer-Deep-Learning-chile-subduction-zone/transfer_learning/training_phasenet_iquique_data_tuning.ipynb#X23sZmlsZQ%3D%3D?line=20'>21</a>\u001b[0m loss\u001b[39m.\u001b[39;49mbackward()\n\u001b[1;32m     <a href='vscode-notebook-cell:/home/javak/Transfer-Deep-Learning-chile-subduction-zone/transfer_learning/training_phasenet_iquique_data_tuning.ipynb#X23sZmlsZQ%3D%3D?line=21'>22</a>\u001b[0m optimizer\u001b[39m.\u001b[39mstep()\n\u001b[1;32m     <a href='vscode-notebook-cell:/home/javak/Transfer-Deep-Learning-chile-subduction-zone/transfer_learning/training_phasenet_iquique_data_tuning.ipynb#X23sZmlsZQ%3D%3D?line=25'>26</a>\u001b[0m i \u001b[39m+\u001b[39m\u001b[39m=\u001b[39m \u001b[39m1\u001b[39m\n",
      "\u001b[0;31mAttributeError\u001b[0m: 'float' object has no attribute 'backward'"
     ]
    }
   ],
   "source": [
    "import matplotlib.pyplot as plt\n",
    "tot_train_loss = np.zeros((1, epochs))\n",
    "tot_test_loss = np.zeros((1, epochs))\n",
    "\n",
    "for t in range(epochs):\n",
    "    print(f\"Epoch {t+1}\\n-------------------------------\")\n",
    "    train_loss = train_loop(train_loader)\n",
    "    tot_train_loss[0,t]= train_loss\n",
    "    model.eval()\n",
    "    test_loss = test_loop(dev_loader)\n",
    "    tot_test_loss[0,t]= test_loss\n"
   ]
  },
  {
   "cell_type": "code",
   "execution_count": null,
   "metadata": {},
   "outputs": [
    {
     "data": {
      "text/plain": [
       "<matplotlib.legend.Legend at 0x7f68828c45e0>"
      ]
     },
     "execution_count": 61,
     "metadata": {},
     "output_type": "execute_result"
    },
    {
     "data": {
      "image/png": "[encoded data removed]",
      "text/plain": [
       "<Figure size 2160x576 with 1 Axes>"
      ]
     },
     "metadata": {
      "needs_background": "light"
     },
     "output_type": "display_data"
    }
   ],
   "source": [
    "plt.plot (tot_train_loss[0,:], label='train_loss')\n",
    "plt.plot (tot_test_loss[0,:], label='test_loss')\n",
    "plt.rcParams[\"figure.figsize\"] = (30,8)\n",
    "plt.xlabel('epochs', fontsize=20)\n",
    "plt.ylabel('loss', fontsize=20)\n",
    "plt.tick_params(axis='x', labelsize=16)\n",
    "plt.tick_params(axis='y', labelsize=16)\n",
    "plt.legend(loc='upper right')"
   ]
  },
  {
   "cell_type": "code",
   "execution_count": null,
   "metadata": {},
   "outputs": [],
   "source": [
    "\n"
   ]
  },
  {
   "cell_type": "code",
   "execution_count": null,
   "metadata": {},
   "outputs": [
    {
     "data": {
      "text/plain": [
       "device(type='cuda', index=0)"
      ]
     },
     "execution_count": 62,
     "metadata": {},
     "output_type": "execute_result"
    }
   ],
   "source": [
    "#bbbbbbbbbbbbbb\n",
    "model.get_model_args()\n",
    "model.device"
   ]
  },
  {
   "cell_type": "code",
   "execution_count": null,
   "metadata": {
    "vscode": {
     "languageId": "powershell"
    }
   },
   "outputs": [],
   "source": [
    "'''\n",
    "client = Client(\"ETH\")\n",
    "t = UTCDateTime(\"2019-11-04T00:59:46.419800Z\")\n",
    "stream = client.get_waveforms(network=\"CH\", station=\"EMING\", location=\"*\", channel=\"HH?\", starttime=t-30, endtime=t+50)\n",
    "out = model.annotate(stream)\n",
    "'''\n",
    "import pandas as pd\n",
    "import numpy as np\n",
    "from data_preprocessing import Data_Preprocessing\n",
    "from picks_comparison import Picks_Comparison\n",
    "\n",
    "start_year_analysis = 2012\n",
    "start_day_analysis = 182\n",
    "end_year_analysis = 2012\n",
    "end_day_analysis = 182\n",
    "time_lag_threshold = 450\n",
    "P_th = 0.3\n",
    "S_th = 0.15\n",
    "\n",
    "obj = Data_Preprocessing (start_year_analysis, start_day_analysis,\n",
    "                    end_year_analysis, end_day_analysis)\n",
    "\n",
    "stream = obj.get_waveforms_chile()\n",
    "#client = Client(\"GFZ\")\n",
    "\n",
    "picks = model.classify(stream, batch_size=256, P_threshold=P_th, S_threshold=S_th, parallelism=1)\n",
    "\n",
    "pick_df = []\n",
    "for p in picks:\n",
    "    pick_df.append({\n",
    "        \"id\": p.trace_id,\n",
    "        \"timestamp\": p.peak_time.datetime,\n",
    "        \"prob\": p.peak_value,\n",
    "        \"type\": p.phase.lower()\n",
    "    })\n",
    "\n",
    "event_picks = pd.DataFrame(pick_df)"
   ]
  },
  {
   "cell_type": "code",
   "execution_count": null,
   "metadata": {
    "vscode": {
     "languageId": "powershell"
    }
   },
   "outputs": [
    {
     "name": "stderr",
     "output_type": "stream",
     "text": [
      "/home/javak/Transfer-Deep-Learning-chile-subduction-zone/transfer_learning/picks_comparison.py:161: SettingWithCopyWarning: \n",
      "A value is trying to be set on a copy of a slice from a DataFrame.\n",
      "Try using .loc[row_indexer,col_indexer] = value instead\n",
      "\n",
      "See the caveats in the documentation: https://pandas.pydata.org/pandas-docs/stable/user_guide/indexing.html#returning-a-view-versus-a-copy\n",
      "  df_S_picks[['station_code', 'others']] = df_S_picks['id'].str.split('.', 1, expand=True)\n",
      "/home/javak/Transfer-Deep-Learning-chile-subduction-zone/transfer_learning/picks_comparison.py:161: SettingWithCopyWarning: \n",
      "A value is trying to be set on a copy of a slice from a DataFrame.\n",
      "Try using .loc[row_indexer,col_indexer] = value instead\n",
      "\n",
      "See the caveats in the documentation: https://pandas.pydata.org/pandas-docs/stable/user_guide/indexing.html#returning-a-view-versus-a-copy\n",
      "  df_S_picks[['station_code', 'others']] = df_S_picks['id'].str.split('.', 1, expand=True)\n",
      "/home/javak/Transfer-Deep-Learning-chile-subduction-zone/transfer_learning/picks_comparison.py:162: SettingWithCopyWarning: \n",
      "A value is trying to be set on a copy of a slice from a DataFrame.\n",
      "Try using .loc[row_indexer,col_indexer] = value instead\n",
      "\n",
      "See the caveats in the documentation: https://pandas.pydata.org/pandas-docs/stable/user_guide/indexing.html#returning-a-view-versus-a-copy\n",
      "  df_S_picks[['station_code', 'others']] = df_S_picks['others'].str.split('.', 1, expand=True)\n",
      "/home/javak/Transfer-Deep-Learning-chile-subduction-zone/transfer_learning/picks_comparison.py:97: SettingWithCopyWarning: \n",
      "A value is trying to be set on a copy of a slice from a DataFrame.\n",
      "Try using .loc[row_indexer,col_indexer] = value instead\n",
      "\n",
      "See the caveats in the documentation: https://pandas.pydata.org/pandas-docs/stable/user_guide/indexing.html#returning-a-view-versus-a-copy\n",
      "  df_P_picks[['station_code', 'others']] = df_P_picks['id'].str.split('.', 1, expand=True)\n",
      "/home/javak/Transfer-Deep-Learning-chile-subduction-zone/transfer_learning/picks_comparison.py:97: SettingWithCopyWarning: \n",
      "A value is trying to be set on a copy of a slice from a DataFrame.\n",
      "Try using .loc[row_indexer,col_indexer] = value instead\n",
      "\n",
      "See the caveats in the documentation: https://pandas.pydata.org/pandas-docs/stable/user_guide/indexing.html#returning-a-view-versus-a-copy\n",
      "  df_P_picks[['station_code', 'others']] = df_P_picks['id'].str.split('.', 1, expand=True)\n",
      "/home/javak/Transfer-Deep-Learning-chile-subduction-zone/transfer_learning/picks_comparison.py:98: SettingWithCopyWarning: \n",
      "A value is trying to be set on a copy of a slice from a DataFrame.\n",
      "Try using .loc[row_indexer,col_indexer] = value instead\n",
      "\n",
      "See the caveats in the documentation: https://pandas.pydata.org/pandas-docs/stable/user_guide/indexing.html#returning-a-view-versus-a-copy\n",
      "  df_P_picks[['station_code', 'others']] = df_P_picks['others'].str.split('.', 1, expand=True)\n"
     ]
    }
   ],
   "source": [
    "picks_obj = Picks_Comparison (start_year_analysis, \n",
    "            start_day_analysis,\n",
    "            end_year_analysis,\n",
    "            end_day_analysis, event_picks)\n",
    "\n",
    "all_dists_p, all_dists_s = picks_obj()"
   ]
  },
  {
   "cell_type": "code",
   "execution_count": null,
   "metadata": {
    "vscode": {
     "languageId": "powershell"
    }
   },
   "outputs": [],
   "source": [
    "from data_preprocessing import Data_Preprocessing\n",
    "from picks_comparison import Picks_Comparison\n",
    "def phase_accuracy():\n",
    "    start_year_analysis = 2012\n",
    "    start_day_analysis = 182\n",
    "    end_year_analysis = 2012\n",
    "    end_day_analysis = 182\n",
    "    time_lag_threshold = 450\n",
    "    P_th = 0.3\n",
    "    S_th = 0.15\n",
    "\n",
    "    obj = Data_Preprocessing (start_year_analysis, start_day_analysis,\n",
    "                        end_year_analysis, end_day_analysis)\n",
    "\n",
    "    stream = obj.get_waveforms_chile()\n",
    "    #client = Client(\"GFZ\")\n",
    "    #stream = sbm.DeepDenoiser.from_pretrained(\"original\").annotate(stream)\n",
    "\n",
    "    picks,detection = model.classify(stream, batch_size=256, P_threshold=P_th, S_threshold=S_th, parallelism=1)\n",
    "\n",
    "\n",
    "    pick_df = []\n",
    "    for p in picks:\n",
    "        pick_df.append({\n",
    "            \"id\": p.trace_id,\n",
    "            \"timestamp\": p.peak_time.datetime,\n",
    "            \"prob\": p.peak_value,\n",
    "            \"type\": p.phase.lower()\n",
    "        })\n",
    "\n",
    "    event_picks = pd.DataFrame(pick_df)\n",
    "\n",
    "\n",
    "\n",
    "    picks_obj = Picks_Comparison (start_year_analysis, \n",
    "                start_day_analysis,\n",
    "                end_year_analysis,\n",
    "                end_day_analysis, event_picks)\n",
    "\n",
    "    all_dists_p, all_dists_s = picks_obj()\n",
    "\n",
    "    p_picks_acc = all_dists_p[np.abs(all_dists_p) < 450]/1000\n",
    "    s_picks_acc = all_dists_s[np.abs(all_dists_s) < 450]/1000\n",
    "    return len(p_picks_acc)/len(all_dists_p), len(s_picks_acc)/len(all_dists_s)"
   ]
  },
  {
   "cell_type": "code",
   "execution_count": null,
   "metadata": {
    "vscode": {
     "languageId": "powershell"
    }
   },
   "outputs": [
    {
     "data": {
      "text/plain": [
       "(6222248, 4)"
      ]
     },
     "execution_count": 65,
     "metadata": {},
     "output_type": "execute_result"
    }
   ],
   "source": [
    "event_picks.shape"
   ]
  },
  {
   "cell_type": "markdown",
   "metadata": {},
   "source": [
    "f = event_picks[event_picks.prob>0.6]\n",
    "\n",
    "picks_obj = Picks_Comparison (start_year_analysis, \n",
    "            start_day_analysis,\n",
    "            end_year_analysis,\n",
    "            end_day_analysis, f)\n",
    "\n",
    "all_dists_p, all_dists_s = picks_obj()"
   ]
  },
  {
   "cell_type": "markdown",
   "metadata": {},
   "source": [
    "event_picks.shape"
   ]
  },
  {
   "cell_type": "code",
   "execution_count": null,
   "metadata": {},
   "outputs": [
    {
     "data": {
      "image/png": "[encoded data removed]",
      "text/plain": [
       "<Figure size 2160x720 with 1 Axes>"
      ]
     },
     "metadata": {
      "needs_background": "light"
     },
     "output_type": "display_data"
    }
   ],
   "source": [
    "# Filter the time lag with the given threshold and capture the picks with more than .. second time lag\n",
    "dists_filter_lag_time_m=all_dists_s[np.abs(all_dists_s) < 2000]/1000\n",
    "\n",
    "# Perform S picks Quality control of PhaseNet by using existing S picks catalog with more than a given time lag\n",
    "fig_lag_m, ax_lag_m = plt.subplots(figsize=(30,10))\n",
    "\n",
    "label_more = '{0}{1}'.format('Recovery ratio of S picks with less than 0.45 seconds: ', round (all_dists_s[np.abs(all_dists_s) < time_lag_threshold].shape[0]/all_dists_s.shape[0],3))\n",
    "\n",
    "n_lag_m, bins_lag_m, patches_lag_m = ax_lag_m.hist(dists_filter_lag_time_m, 100, density=False, facecolor='r', alpha=0.75, label=label_more)\n",
    "#steps = (max(dists_filter_lag_time_m) - min(dists_filter_lag_time_m))/40\n",
    "steps = 0.1\n",
    "#plt.xticks(np.arange(min(dists_filter_lag_time_m), max(dists_filter_lag_time_m), step=steps))\n",
    "plt.xticks(np.arange(-1, 1.1, step=steps))\n",
    "plt.xlabel('Time residual between catalog and phase picker (S)', fontsize=20)\n",
    "plt.ylabel('Number of S picks', fontsize=20)\n",
    "\n",
    "plt.tick_params(axis='x', labelsize=12)\n",
    "plt.tick_params(axis='y', labelsize=12)\n",
    "\n",
    "filter_tim_lag = all_dists_s[np.abs(all_dists_s) < 450]/1000\n",
    "MAE = np.sum(filter_tim_lag)/filter_tim_lag.shape[0]\n",
    "RMSE = np.sqrt (np.sum(filter_tim_lag**2)/filter_tim_lag.shape[0])\n",
    "plt.axvline(MAE, color='blue', label='MAE:'+str(round (MAE,3)),linewidth=3.5)\n",
    "plt.axvline(RMSE, color='black', label='RMSE:'+str(round (RMSE,3)), linestyle=\"--\", linewidth=3.5)\n",
    "\n",
    "#plt.title('Common S picks distribution with less than 2 seconds time residual (2012-01-01 to 2012-12-31)', fontsize=24, pad=23)\n",
    "#plt.xlim(min(bins_lag_m), max(bins_lag_m))\n",
    "plt.xlim([-1.5,1.5])\n",
    "plt.grid(True)\n",
    "plt.legend(loc='upper right', fontsize=15)\n",
    "plt.show()\n",
    "\n"
   ]
  },
  {
   "cell_type": "code",
   "execution_count": null,
   "metadata": {},
   "outputs": [
    {
     "data": {
      "image/png": "[encoded data removed]",
      "text/plain": [
       "<Figure size 2160x720 with 1 Axes>"
      ]
     },
     "metadata": {
      "needs_background": "light"
     },
     "output_type": "display_data"
    }
   ],
   "source": [
    "# Filter the time lag with the given threshold and capture the picks with more than .. second time lag\n",
    "dists_filter_lag_time_m=all_dists_p[np.abs(all_dists_p) < 2000]/1000\n",
    "\n",
    "# Perform S picks Quality control of PhaseNet by using existing S picks catalog with more than a given time lag\n",
    "fig_lag_m, ax_lag_m = plt.subplots(figsize=(30,10))\n",
    "\n",
    "label_more = '{0}{1}'.format('Recovery ratio of P picks with less than 0.45 seconds: ', round (all_dists_p[np.abs(all_dists_p) < time_lag_threshold].shape[0]/all_dists_p.shape[0],3))\n",
    "\n",
    "n_lag_m, bins_lag_m, patches_lag_m = ax_lag_m.hist(dists_filter_lag_time_m, 100, density=False, facecolor='blue', alpha=0.75, label=label_more)\n",
    "#steps = (max(dists_filter_lag_time_m) - min(dists_filter_lag_time_m))/40\n",
    "steps = 0.1\n",
    "#plt.xticks(np.arange(min(dists_filter_lag_time_m), max(dists_filter_lag_time_m), step=steps))\n",
    "plt.xticks(np.arange(-1, 1.1, step=steps))\n",
    "plt.xlabel('Time residual between catalog and phase picker (P)', fontsize=20)\n",
    "plt.ylabel('Number of P picks', fontsize=20)\n",
    "\n",
    "plt.tick_params(axis='x', labelsize=12)\n",
    "plt.tick_params(axis='y', labelsize=12)\n",
    "\n",
    "filter_tim_lag = all_dists_p[np.abs(all_dists_p) < 450]/1000\n",
    "MAE = np.sum(filter_tim_lag)/filter_tim_lag.shape[0]\n",
    "RMSE = np.sqrt (np.sum(filter_tim_lag**2)/filter_tim_lag.shape[0])\n",
    "plt.axvline(MAE, color='r', label='MAE:'+str(round (MAE,3)),linewidth=3.5)\n",
    "plt.axvline(RMSE, color='black', label='RMSE:'+str(round (RMSE,3)), linestyle=\"--\", linewidth=3.5)\n",
    "\n",
    "#plt.title('Common S picks distribution with less than 2 seconds time residual (2012-01-01 to 2012-12-31)', fontsize=24, pad=23)\n",
    "#plt.xlim(min(bins_lag_m), max(bins_lag_m))\n",
    "plt.xlim([-1.5,1.5])\n",
    "plt.grid(True)\n",
    "plt.legend(loc='upper right', fontsize=15)\n",
    "plt.show()\n",
    "\n"
   ]
  },
  {
   "cell_type": "code",
   "execution_count": null,
   "metadata": {},
   "outputs": [],
   "source": []
  }
 ],
 "metadata": {
  "kernelspec": {
   "display_name": "Python 3.10.4 ('seisbench')",
   "language": "python",
   "name": "python3"
  },
  "language_info": {
   "codemirror_mode": {
    "name": "ipython",
    "version": 3
   },
   "file_extension": ".py",
   "mimetype": "text/x-python",
   "name": "python",
   "nbconvert_exporter": "python",
   "pygments_lexer": "ipython3",
   "version": "3.10.4"
  },
  "orig_nbformat": 4,
  "vscode": {
   "interpreter": {
    "hash": "b20746fb6b31a4a3c185d8dc9e67ee27e52a348cdb9134f10f5f04eafa28ce07"
   }
  }
 },
 "nbformat": 4,
 "nbformat_minor": 2
}
