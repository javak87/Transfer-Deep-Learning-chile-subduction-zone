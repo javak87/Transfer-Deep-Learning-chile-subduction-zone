{
 "cells": [
  {
   "cell_type": "code",
   "execution_count": 26,
   "metadata": {},
   "outputs": [],
   "source": [
    "import obspy\n",
    "import os\n",
    "import pickle\n",
    "import datetime\n",
    "import seisbench\n",
    "import numpy as np\n",
    "import pandas as pd\n",
    "from scipy.spatial import distance_matrix\n",
    "import matplotlib.pyplot as plt\n",
    "from picks_comparison import Picks_Comparison\n",
    "import warnings\n",
    "warnings.filterwarnings('ignore')\n",
    "    "
   ]
  },
  {
   "cell_type": "code",
   "execution_count": 27,
   "metadata": {},
   "outputs": [],
   "source": [
    "start_year_analysis = 2011\n",
    "start_day_analysis = 90\n",
    "end_year_analysis = 2011\n",
    "end_day_analysis = 90\n",
    "time_lag_threshold = 500 # mi second\n",
    "\n",
    "# catalog: Nooshin_catalog, Cristian_catalog, Jonas_catalog, Jorge_catalog, Nazia_catalog, Vaclav_catalog\n",
    "# GT: EQT_catalog_Nooshin_days, EQT_catalog_Cristian_days, EQT_catalog_Jonas_days, EQT_catalog_Jorge_days, \n",
    "# EQT_catalog_Nazia_days, EQT_catalog_Vaclav_days\n",
    "catalog = 'EQT_Instnace_CJN'\n",
    "GT = 'EQT_Instance'\n",
    "\n",
    "title = '{0}{1}'.format(catalog,' catalog')\n",
    "y_label_P = '{0}{1}{2}'.format(' Ground truth (', GT, ')' + '\\n' +' Number of P picks')\n",
    "y_label_S = '{0}{1}{2}'.format(' Ground truth (', GT, ')' + '\\n' +' Number of S picks')"
   ]
  },
  {
   "attachments": {},
   "cell_type": "markdown",
   "metadata": {},
   "source": [
    "##### EQT-Instnace & EQT-Instnace-CJN picks evaluation"
   ]
  },
  {
   "cell_type": "code",
   "execution_count": 28,
   "metadata": {},
   "outputs": [],
   "source": [
    "if catalog =='EQT_Instnace_CJN':\n",
    "    picker_picks_file_path= '/home/javak/Sample_data_chile/Comparing PhaseNet and Catalog/EQT_Instance_CJN/all_days/EQT_Instnace_CJN.pkl'\n",
    "    with open(picker_picks_file_path,'rb') as fp:\n",
    "        event_picks= pickle.load(fp)\n",
    "    \n",
    "\n",
    "if GT == 'EQT_Instance':\n",
    "    Ground_truth_file_path = '/home/javak/Sample_data_chile/Comparing PhaseNet and Catalog/EQT_Instance/all_days/EQT_Instnace.pkl'\n",
    "    with open(Ground_truth_file_path,'rb') as fp:\n",
    "        Ground_truth = pickle.load(fp)\n",
    "\n",
    "    Ground_truth.sort_values(by=['timestamp'], inplace=True)"
   ]
  },
  {
   "attachments": {},
   "cell_type": "markdown",
   "metadata": {},
   "source": [
    "##### Nooshin picks evaluation"
   ]
  },
  {
   "cell_type": "code",
   "execution_count": 29,
   "metadata": {},
   "outputs": [],
   "source": [
    "if catalog =='Nooshin_catalog':\n",
    "    picker_picks_file_path= '/home/javak/Sample_data_chile/Events_catalog/Manual picks/Nooshin/Manual/Cleaned/Nooshin_picks.pkl'\n",
    "    with open(picker_picks_file_path,'rb') as fp:\n",
    "        event_picks= pickle.load(fp)\n",
    "    \n",
    "\n",
    "if GT == 'EQT_catalog_Cristian_days':\n",
    "    Ground_truth_file_path = '/home/javak/Sample_data_chile/Events_catalog/Manual picks/Nooshin/Instance/EQT_Nooshin_picks.pkl'\n",
    "    with open(Ground_truth_file_path,'rb') as fp:\n",
    "        Ground_truth = pickle.load(fp)\n",
    "\n",
    "    Ground_truth.sort_values(by=['timestamp'], inplace=True)\n",
    "    "
   ]
  },
  {
   "attachments": {},
   "cell_type": "markdown",
   "metadata": {},
   "source": [
    "##### Cristian picks evaluation"
   ]
  },
  {
   "cell_type": "code",
   "execution_count": 30,
   "metadata": {},
   "outputs": [],
   "source": [
    "if catalog =='Cristian_catalog':\n",
    "    picker_picks_file_path= '/home/javak/Sample_data_chile/Events_catalog/Manual picks/Cristian/Manual/cleaned/Cristian_picks.pkl'\n",
    "    with open(picker_picks_file_path,'rb') as fp:\n",
    "        event_picks= pickle.load(fp)\n",
    "    \n",
    "\n",
    "if GT == 'EQT_catalog_Cristian_days':\n",
    "    Ground_truth_file_path = '/home/javak/Sample_data_chile/Events_catalog/Manual picks/Cristian/Instance/All/EQT_Cristian_picks.pkl'\n",
    "    with open(Ground_truth_file_path,'rb') as fp:\n",
    "        Ground_truth = pickle.load(fp)\n",
    "\n",
    "    Ground_truth.sort_values(by=['timestamp'], inplace=True)\n",
    "    "
   ]
  },
  {
   "attachments": {},
   "cell_type": "markdown",
   "metadata": {},
   "source": [
    "##### Jonas picks evaluation"
   ]
  },
  {
   "cell_type": "code",
   "execution_count": 31,
   "metadata": {},
   "outputs": [],
   "source": [
    "if catalog =='Jonas_catalog':\n",
    "    picker_picks_file_path= '/home/javak/Sample_data_chile/Events_catalog/Manual picks/Jonas/Manual/Cleaned/Jonas_picks.pkl'\n",
    "    with open(picker_picks_file_path,'rb') as fp:\n",
    "        event_picks= pickle.load(fp)\n",
    "    \n",
    "\n",
    "if GT == 'EQT_catalog_Jonas_days':\n",
    "    Ground_truth_file_path = '/home/javak/Sample_data_chile/Events_catalog/Manual picks/Jonas/Instance/All/EQT_Jonas_picks.pkl'\n",
    "    with open(Ground_truth_file_path,'rb') as fp:\n",
    "        Ground_truth = pickle.load(fp)\n",
    "\n",
    "    Ground_truth.sort_values(by=['timestamp'], inplace=True)\n",
    "    "
   ]
  },
  {
   "attachments": {},
   "cell_type": "markdown",
   "metadata": {},
   "source": [
    "##### Jorge picks evaluation"
   ]
  },
  {
   "cell_type": "code",
   "execution_count": 32,
   "metadata": {},
   "outputs": [],
   "source": [
    "if catalog =='Jorge_catalog':\n",
    "    picker_picks_file_path= '/home/javak/Sample_data_chile/Events_catalog/Manual picks/Jorge/Manual/Cleaned/Jorge_picks.pkl'\n",
    "    with open(picker_picks_file_path,'rb') as fp:\n",
    "        event_picks= pickle.load(fp)\n",
    "    \n",
    "\n",
    "if GT == 'EQT_catalog_Jorge_days':\n",
    "    Ground_truth_file_path = '/home/javak/Sample_data_chile/Events_catalog/Manual picks/Jorge/Instance/All/EQT_Jorge_picks.pkl'\n",
    "    with open(Ground_truth_file_path,'rb') as fp:\n",
    "        Ground_truth = pickle.load(fp)\n",
    "\n",
    "    Ground_truth.sort_values(by=['timestamp'], inplace=True)\n",
    "    "
   ]
  },
  {
   "attachments": {},
   "cell_type": "markdown",
   "metadata": {},
   "source": [
    "##### Nazia picks evalaution"
   ]
  },
  {
   "cell_type": "code",
   "execution_count": 33,
   "metadata": {},
   "outputs": [],
   "source": [
    "if catalog =='Nazia_catalog':\n",
    "    picker_picks_file_path= '/home/javak/Sample_data_chile/Events_catalog/Manual picks/Nazia/Manual/Cleaned/Nazia_picks.pkl'\n",
    "    with open(picker_picks_file_path,'rb') as fp:\n",
    "        event_picks= pickle.load(fp)\n",
    "    \n",
    "\n",
    "if GT == 'EQT_catalog_Nazia_days':\n",
    "    Ground_truth_file_path = '/home/javak/Sample_data_chile/Events_catalog/Manual picks/Nazia/Instance/EQT_Nazia_picks.pkl'\n",
    "    with open(Ground_truth_file_path,'rb') as fp:\n",
    "        Ground_truth = pickle.load(fp)\n",
    "\n",
    "    Ground_truth.sort_values(by=['timestamp'], inplace=True)\n",
    "    "
   ]
  },
  {
   "attachments": {},
   "cell_type": "markdown",
   "metadata": {},
   "source": [
    "##### Vaclav picks evalaution"
   ]
  },
  {
   "cell_type": "code",
   "execution_count": 34,
   "metadata": {},
   "outputs": [],
   "source": [
    "if catalog =='Vaclav_catalog':\n",
    "    picker_picks_file_path= '/home/javak/Sample_data_chile/Events_catalog/Manual picks/Vaclav/Manual/Cleaned/Vaclav_picks.pkl'\n",
    "    with open(picker_picks_file_path,'rb') as fp:\n",
    "        event_picks= pickle.load(fp)\n",
    "    \n",
    "\n",
    "if GT == 'EQT_catalog_Vaclav_days':\n",
    "    Ground_truth_file_path = '/home/javak/Sample_data_chile/Events_catalog/Manual picks/Vaclav/Instance/All/EQT_Vaclav_picks.pkl'\n",
    "    with open(Ground_truth_file_path,'rb') as fp:\n",
    "        Ground_truth = pickle.load(fp)\n",
    "\n",
    "    Ground_truth.sort_values(by=['timestamp'], inplace=True)\n",
    "    "
   ]
  },
  {
   "cell_type": "raw",
   "metadata": {},
   "source": [
    "if GT =='IPOC':\n",
    "\n",
    "    Ground_truth_file_path_p = '/home/javak/Sample_data_chile/Comparing PhaseNet and Catalog/EQTransformer_transfer learning_instance/Binary entropy/P=0.075, s= 0.1/2011.90 (trained on Iquque)/catalog_p_picks.pkl'\n",
    "    with open(Ground_truth_file_path_p,'rb') as fp:\n",
    "        Ground_truth_p = pickle.load(fp)\n",
    "\n",
    "    Ground_truth_file_path_s = '/home/javak/Sample_data_chile/Comparing PhaseNet and Catalog/EQTransformer_transfer learning_instance/Binary entropy/P=0.075, s= 0.1/2011.90 (trained on Iquque)/catalog_s_picks.pkl'\n",
    "    with open(Ground_truth_file_path_s,'rb') as fp:\n",
    "        Ground_truth_s = pickle.load(fp)\n",
    "    \n",
    "\n",
    "    Ground_truth = pd.concat([Ground_truth_p, Ground_truth_s], axis=0)\n",
    "    Ground_truth.sort_values(by=['picks_time'], inplace=True)\n",
    "\n",
    "    # Drop PB08 Station\n",
    "    #Ground_truth.reset_index(drop=True, inplace=True)\n",
    "    #Ground_truth.drop(index= np.where(Ground_truth[\"station_code\"] == 'PB08')[0].tolist(), inplace=True)\n",
    "\n",
    "    Ground_truth.drop(columns=['picks_uncertainty','origins_time', 'origins_longitude', 'origins_latitude','magnitudes'], errors='ignore', inplace=True)\n",
    "\n",
    "if GT =='Hand-picked':\n",
    "    Ground_truth_file_path = '/home/javak/Sample_data_chile/Events_catalog/Manual picks/Jonas/picks_2011_090_cleaned.pkl'\n",
    "    with open(Ground_truth_file_path,'rb') as fp:\n",
    "        Ground_truth = pickle.load(fp)\n",
    "\n",
    "    # Drop PB08 Station\n",
    "    #Ground_truth.reset_index(drop=True, inplace=True)\n",
    "    #Ground_truth.drop(index= np.where(Ground_truth[\"station_code\"] == 'PB08')[0].tolist(), inplace=True)\n",
    "\n",
    "if GT =='Nooshin':\n",
    "    Ground_truth_file_path = '/home/javak/Sample_data_chile/Events_catalog/Updated Catalog from Crist/catalog_2007_2021/manual picks/Extract_picks_from_catalog/Nooshin_picks.pkl'\n",
    "    with open(Ground_truth_file_path,'rb') as fp:\n",
    "        Ground_truth = pickle.load(fp)\n",
    "\n",
    "    # Drop PB08 Station\n",
    "    #Ground_truth.reset_index(drop=True, inplace=True)\n",
    "    #Ground_truth.drop(index= np.where(Ground_truth[\"station_code\"] == 'PB08')[0].tolist(), inplace=True)\n",
    "\n",
    "if catalog =='IPOC':\n",
    "\n",
    "    catalog_file_path_p = '/home/javak/Sample_data_chile/Comparing PhaseNet and Catalog/EQTransformer_transfer learning_instance/Binary entropy/P=0.075, s= 0.1/2011.90 (trained on Iquque)/catalog_p_picks.pkl'\n",
    "    with open(catalog_file_path_p,'rb') as fp:\n",
    "        catalog_p = pickle.load(fp)\n",
    "\n",
    "    catalog_file_path_s = '/home/javak/Sample_data_chile/Comparing PhaseNet and Catalog/EQTransformer_transfer learning_instance/Binary entropy/P=0.075, s= 0.1/2011.90 (trained on Iquque)/catalog_s_picks.pkl'\n",
    "    with open(catalog_file_path_s,'rb') as fp:\n",
    "        catalog_s = pickle.load(fp)\n",
    "    \n",
    "\n",
    "    event_picks = pd.concat([catalog_p, catalog_s], axis=0)\n",
    "    event_picks.sort_values(by=['picks_time'], inplace=True)\n",
    "\n",
    "    event_picks.drop(columns=['picks_uncertainty','origins_time', 'origins_longitude', 'origins_latitude','magnitudes'], errors='ignore', inplace=True)\n",
    "\n",
    "    # Drop PB08 Station\n",
    "    #event_picks.reset_index(drop=True, inplace=True)\n",
    "    #event_picks.drop(index= np.where(event_picks[\"station_code\"] == 'PB08')[0].tolist(), inplace=True)\n",
    "\n",
    "\n",
    "if catalog == 'Hand-picked':\n",
    "\n",
    "    catalog_file_path = '/home/javak/Sample_data_chile/Events_catalog/Manual picks/Jonas/picks_2011_090_cleaned.pkl'\n",
    "    with open(catalog_file_path,'rb') as fp:\n",
    "        event_picks = pickle.load(fp)\n",
    "\n",
    "    # Drop PB08 Station\n",
    "    #event_picks.reset_index(drop=True, inplace=True)\n",
    "    #event_picks.drop(index= np.where(event_picks[\"station_code\"] == 'PB08')[0].tolist(), inplace=True)\n",
    "\n",
    "\n",
    "if catalog == 'Instance-Iquique':\n",
    "\n",
    "    picker_p_picks_file_path = '/home/javak/Sample_data_chile/Comparing PhaseNet and Catalog/EQTransformer_transfer learning_instance/Binary entropy/P=0.075, s= 0.1/2011.90 (trained on Iquque)/PhaseNet_result_p_picks.pkl'\n",
    "    with open(picker_p_picks_file_path,'rb') as fp:\n",
    "        p_picks = pickle.load(fp)\n",
    "\n",
    "    picker_s_picks_file_path = '/home/javak/Sample_data_chile/Comparing PhaseNet and Catalog/EQTransformer_transfer learning_instance/Binary entropy/P=0.075, s= 0.1/2011.90 (trained on Iquque)/PhaseNet_result_s_picks.pkl'\n",
    "    with open(picker_s_picks_file_path,'rb') as fp:\n",
    "        s_picks = pickle.load(fp)\n",
    "\n",
    "    event_picks = pd.concat([p_picks,s_picks], axis=0)\n",
    "    event_picks.sort_values(by=['timestamp'], inplace=True)\n",
    "\n",
    "    # Drop PB08 Station\n",
    "    #event_picks.reset_index(drop=True, inplace=True)\n",
    "    #event_picks.drop(index= np.where(event_picks['id']=='CX.PB08.')[0].tolist(), inplace=True)\n",
    "\n",
    "if catalog == 'Instance':\n",
    "\n",
    "    picker_p_picks_file_path = '/home/javak/Sample_data_chile/Comparing PhaseNet and Catalog/EQ Trasfermer based on instance/2011.90/PhaseNet_result_p_picks.pkl'\n",
    "    with open(picker_p_picks_file_path,'rb') as fp:\n",
    "        p_picks = pickle.load(fp)\n",
    "\n",
    "    picker_s_picks_file_path = '/home/javak/Sample_data_chile/Comparing PhaseNet and Catalog/EQ Trasfermer based on instance/2011.90/PhaseNet_result_s_picks.pkl'\n",
    "    with open(picker_s_picks_file_path,'rb') as fp:\n",
    "        s_picks = pickle.load(fp)\n",
    "\n",
    "    event_picks = pd.concat([p_picks,s_picks], axis=0)\n",
    "    event_picks.sort_values(by=['timestamp'], inplace=True)\n",
    "\n",
    "    # Drop PB08 Station\n",
    "    #event_picks.reset_index(drop=True, inplace=True)\n",
    "    #event_picks.drop(index= np.where(event_picks['id']=='CX.PB08.')[0].tolist(), inplace=True)\n",
    "\n",
    "if catalog == 'Nooshin':\n",
    "    picker_p_picks_file_path = '/home/javak/Sample_data_chile/Comparing PhaseNet and Catalog/EQTransformer_transfer learning_instance/Binary entropy/2011.90_(Train_on_nosshin_dataset/P=0,22, s= 0.12/PhaseNet_result_p_picks.pkl'\n",
    "    with open(picker_p_picks_file_path,'rb') as fp:\n",
    "        p_picks = pickle.load(fp)\n",
    "    picker_s_picks_file_path = '/home/javak/Sample_data_chile/Comparing PhaseNet and Catalog/EQTransformer_transfer learning_instance/Binary entropy/2011.90_(Train_on_nosshin_dataset/P=0,22, s= 0.12/PhaseNet_result_s_picks.pkl'\n",
    "    with open(picker_s_picks_file_path,'rb') as fp:\n",
    "        s_picks = pickle.load(fp)\n",
    "\n",
    "    event_picks = pd.concat([p_picks,s_picks], axis=0)\n",
    "    event_picks.sort_values(by=['timestamp'], inplace=True)\n",
    "\n",
    "    # Drop PB08 Station\n",
    "    #event_picks.reset_index(drop=True, inplace=True)\n",
    "    #event_picks.drop(index= np.where(event_picks['id']=='CX.PB08.')[0].tolist(), inplace=True)\n",
    "\n",
    "\n",
    "if catalog == 'Jonas':\n",
    "    picker_p_picks_file_path = '/home/javak/Sample_data_chile/Comparing PhaseNet and Catalog/EQTransformer_transfer learning_instance/Binary entropy/2011.90 (Train_on_jonas_two_picks)/PhaseNet_result_p_picks.pkl'\n",
    "    with open(picker_p_picks_file_path,'rb') as fp:\n",
    "        p_picks = pickle.load(fp)\n",
    "    picker_s_picks_file_path = '/home/javak/Sample_data_chile/Comparing PhaseNet and Catalog/EQTransformer_transfer learning_instance/Binary entropy/2011.90 (Train_on_jonas_two_picks)/PhaseNet_result_s_picks.pkl'\n",
    "    with open(picker_s_picks_file_path,'rb') as fp:\n",
    "        s_picks = pickle.load(fp)\n",
    "\n",
    "    event_picks = pd.concat([p_picks,s_picks], axis=0)\n",
    "    event_picks.sort_values(by=['timestamp'], inplace=True)\n",
    "\n",
    "    # Drop PB08 Station\n",
    "    #event_picks.reset_index(drop=True, inplace=True)\n",
    "    #event_picks.drop(index= np.where(event_picks['id']=='CX.PB08.')[0].tolist(), inplace=True)"
   ]
  },
  {
   "cell_type": "code",
   "execution_count": 35,
   "metadata": {},
   "outputs": [
    {
     "data": {
      "text/plain": [
       "(14247, 4)"
      ]
     },
     "execution_count": 35,
     "metadata": {},
     "output_type": "execute_result"
    }
   ],
   "source": [
    "Ground_truth[Ground_truth['type']=='p'].shape\n"
   ]
  },
  {
   "cell_type": "code",
   "execution_count": 36,
   "metadata": {},
   "outputs": [
    {
     "data": {
      "text/plain": [
       "(8943, 4)"
      ]
     },
     "execution_count": 36,
     "metadata": {},
     "output_type": "execute_result"
    }
   ],
   "source": [
    "Ground_truth[Ground_truth['type']=='s'].shape"
   ]
  },
  {
   "cell_type": "code",
   "execution_count": 37,
   "metadata": {},
   "outputs": [],
   "source": [
    "#event_picks[event_picks['phase_hint']=='P'].shape"
   ]
  },
  {
   "cell_type": "code",
   "execution_count": 38,
   "metadata": {},
   "outputs": [],
   "source": [
    "#event_picks[event_picks['phase_hint']=='S'].shape"
   ]
  },
  {
   "cell_type": "code",
   "execution_count": 39,
   "metadata": {},
   "outputs": [],
   "source": [
    "picks_obj = Picks_Comparison (start_year_analysis, \n",
    "                start_day_analysis,\n",
    "                end_year_analysis,\n",
    "                end_day_analysis,event_picks, Ground_truth)\n",
    "\n",
    "all_dists_p, all_dists_s = picks_obj()"
   ]
  },
  {
   "cell_type": "code",
   "execution_count": 40,
   "metadata": {},
   "outputs": [
    {
     "name": "stdout",
     "output_type": "stream",
     "text": [
      "result with 0.5 second\n",
      "Number of P picks (14247,)\n",
      "Number of S picks (8943,)\n",
      "Recovery Rate P 0.686249736786692\n",
      "Recovery Rate S 0.8478139326847814\n"
     ]
    }
   ],
   "source": [
    "print('result with 0.5 second')\n",
    "print('Number of P picks',all_dists_p.shape)\n",
    "print('Number of S picks',all_dists_s.shape)\n",
    "print('Recovery Rate P',(all_dists_p[np.abs(all_dists_p) < 500].shape[0])/all_dists_p.shape[0])\n",
    "print('Recovery Rate S',(all_dists_s[np.abs(all_dists_s) < 500].shape[0])/all_dists_s.shape[0])\n"
   ]
  },
  {
   "cell_type": "code",
   "execution_count": 41,
   "metadata": {},
   "outputs": [
    {
     "name": "stdout",
     "output_type": "stream",
     "text": [
      "result with 5 and 2.9 seconds\n",
      "Number of P picks (14247,)\n",
      "Number of S picks (8943,)\n",
      "Recovery Rate P 0.7184670456938302\n",
      "Recovery Rate S 0.8818069998881807\n"
     ]
    }
   ],
   "source": [
    "print('result with 5 and 2.9 seconds')\n",
    "print('Number of P picks',all_dists_p.shape)\n",
    "print('Number of S picks',all_dists_s.shape)\n",
    "print('Recovery Rate P',(all_dists_p[np.abs(all_dists_p) < 2942].shape[0])/all_dists_p.shape[0])\n",
    "print('Recovery Rate S',(all_dists_s[np.abs(all_dists_s) < 5000].shape[0])/all_dists_s.shape[0])"
   ]
  },
  {
   "cell_type": "code",
   "execution_count": 42,
   "metadata": {},
   "outputs": [
    {
     "data": {
      "image/png": "[encoded data removed]",
      "text/plain": [
       "<Figure size 720x720 with 1 Axes>"
      ]
     },
     "metadata": {
      "needs_background": "light"
     },
     "output_type": "display_data"
    }
   ],
   "source": [
    "# Filter the time lag with the given threshold and capture the picks with more than .. second time lag\n",
    "dists_filter_lag_time_m=all_dists_s[np.abs(all_dists_s) < 2000]/1000\n",
    "\n",
    "# Perform S picks Quality control of PhaseNet by using existing S picks catalog with more than a given time lag\n",
    "fig_lag_m, ax_lag_m = plt.subplots(figsize=(30,10))\n",
    "\n",
    "#label_more = '{0}{1}'.format('Recovery ratio \\nof S picks with less than \\n0.5 seconds: ', round (all_dists_s[np.abs(all_dists_s) < time_lag_threshold].shape[0]/all_dists_s.shape[0],3))\n",
    "\n",
    "n_lag_m, bins_lag_m, patches_lag_m = ax_lag_m.hist(dists_filter_lag_time_m, 100, density=False, facecolor='r', alpha=0.75)\n",
    "#steps = (max(dists_filter_lag_time_m) - min(dists_filter_lag_time_m))/40\n",
    "steps = 0.5\n",
    "plt.xticks(np.arange(-1, 1.1, step=steps))\n",
    "#plt.xlabel('Time residual (s)', fontsize=25)\n",
    "#plt.ylabel(y_label_S, fontsize=25, labelpad=-7)\n",
    "#plt.title(title, fontsize=32)\n",
    "fig_lag_m.set_size_inches(10,10)\n",
    "\n",
    "plt.tick_params(axis='x', labelsize=20)\n",
    "plt.tick_params(axis='y', labelsize=20)\n",
    "\n",
    "\n",
    "filter_tim_lag = all_dists_s[np.abs(all_dists_s) < 5000]/1000\n",
    "mean = np.mean(filter_tim_lag)\n",
    "median = np.median(filter_tim_lag)\n",
    "#mean = np.sum(filter_tim_lag)/filter_tim_lag.shape[0]\n",
    "RMSE = np.sqrt (np.sum(filter_tim_lag**2)/filter_tim_lag.shape[0])\n",
    "plt.axvline(mean, color='blue', label='Mean:'+str(round (mean,3)),linewidth=2)\n",
    "plt.axvline(median, color='green', label='Median:'+str(round (median,3)),linewidth=2)\n",
    "plt.axvline(RMSE, color='black', label='RMSE:'+str(round (RMSE,3)), linestyle=\"--\", linewidth=2)\n",
    "\n",
    "#plt.title('Common S picks distribution with less than 2 seconds time residual (2012-01-01 to 2012-12-31)', fontsize=24, pad=23)\n",
    "#plt.xlim(min(bins_lag_m), max(bins_lag_m))\n",
    "plt.xlim([-1.5,1.5])\n",
    "plt.grid(True)\n",
    "plt.legend(loc='upper right', fontsize=20)\n",
    "plt.show()\n",
    "\n",
    "# Save png file in the export_DF_path IPOC_vs_HAND_PICKED(GT)_S\n",
    "file_name = '{0}{1}{2}{3}.{extention}'.format(catalog,'_vs_',GT,'(GT)_S', extention='pdf')\n",
    "fig_lag_m.savefig(os.path.join('/home/javak/Sample_data_chile/Events_catalog/Manual picks/Pickers_evalaution', file_name), facecolor = 'w',bbox_inches='tight')\n",
    "\n"
   ]
  },
  {
   "cell_type": "code",
   "execution_count": 43,
   "metadata": {},
   "outputs": [
    {
     "data": {
      "text/plain": [
       "0.1417765660664469"
      ]
     },
     "execution_count": 43,
     "metadata": {},
     "output_type": "execute_result"
    }
   ],
   "source": [
    "mean"
   ]
  },
  {
   "cell_type": "code",
   "execution_count": 44,
   "metadata": {},
   "outputs": [
    {
     "data": {
      "image/png": "[encoded data removed]",
      "text/plain": [
       "<Figure size 720x720 with 1 Axes>"
      ]
     },
     "metadata": {
      "needs_background": "light"
     },
     "output_type": "display_data"
    }
   ],
   "source": [
    "# Filter the time lag with the given threshold and capture the picks with more than .. second time lag\n",
    "dists_filter_lag_time_m=all_dists_p[np.abs(all_dists_p) < 2000]/1000\n",
    "\n",
    "# Perform S picks Quality control of PhaseNet by using existing S picks catalog with more than a given time lag\n",
    "fig_lag_m, ax_lag_m = plt.subplots(figsize=(40,10))\n",
    "fig_lag_m.set_size_inches(10,10)\n",
    "#label_more = '{0}{1}'.format('Recovery ratio of P picks with less than 0.5 seconds: ', round (all_dists_p[np.abs(all_dists_p) < time_lag_threshold].shape[0]/all_dists_p.shape[0],3))\n",
    "\n",
    "n_lag_m, bins_lag_m, patches_lag_m = ax_lag_m.hist(dists_filter_lag_time_m, 100, density=False, facecolor='blue', alpha=0.75)\n",
    "#steps = (max(dists_filter_lag_time_m) - min(dists_filter_lag_time_m))/40\n",
    "\n",
    "steps = 0.5\n",
    "plt.xticks(np.arange(-1, 1.1, step=steps))\n",
    "#plt.xlabel('Time residual (s)', fontsize=25)\n",
    "#plt.ylabel(y_label_P, fontsize=25, labelpad=-7)\n",
    "#plt.title(title, fontsize=32)\n",
    "fig_lag_m.set_size_inches(10,10)\n",
    "\n",
    "plt.tick_params(axis='x', labelsize=20)\n",
    "plt.tick_params(axis='y', labelsize=20)\n",
    "\n",
    "filter_tim_lag = all_dists_p[np.abs(all_dists_p) < 2942]/1000\n",
    "mean = np.mean(filter_tim_lag)\n",
    "median = np.median(filter_tim_lag)\n",
    "#MAE = np.sum(filter_tim_lag)/filter_tim_lag.shape[0]\n",
    "RMSE = np.sqrt (np.sum(filter_tim_lag**2)/filter_tim_lag.shape[0])\n",
    "plt.axvline(mean, color='red', label='Mean:'+str(round (mean,3)),linewidth=2)\n",
    "plt.axvline(median, color='green', label='Median:'+str(round (median,3)),linewidth=2)\n",
    "plt.axvline(RMSE, color='black', label='RMSE:'+str(round (RMSE,3)), linestyle=\"--\", linewidth=2)\n",
    "\n",
    "#plt.title('Common S picks distribution with less than 2 seconds time residual (2012-01-01 to 2012-12-31)', fontsize=24, pad=23)\n",
    "#plt.xlim(min(bins_lag_m), max(bins_lag_m))\n",
    "plt.xlim([-1.5,1.5])\n",
    "plt.grid(True)\n",
    "plt.legend(loc='upper right', fontsize=20)\n",
    "plt.show()\n",
    "\n",
    "# Save png file in the export_DF_path IPOC_vs_HAND_PICKED(GT)_S\n",
    "file_name = '{0}{1}{2}{3}.{extention}'.format(catalog,'_vs_',GT,'(GT)_P', extention='pdf')\n",
    "fig_lag_m.savefig(os.path.join('/home/javak/Sample_data_chile/Events_catalog/Manual picks/Pickers_evalaution', file_name), facecolor = 'w',bbox_inches='tight')"
   ]
  },
  {
   "cell_type": "code",
   "execution_count": null,
   "metadata": {},
   "outputs": [],
   "source": []
  }
 ],
 "metadata": {
  "kernelspec": {
   "display_name": "seisbench",
   "language": "python",
   "name": "python3"
  },
  "language_info": {
   "codemirror_mode": {
    "name": "ipython",
    "version": 3
   },
   "file_extension": ".py",
   "mimetype": "text/x-python",
   "name": "python",
   "nbconvert_exporter": "python",
   "pygments_lexer": "ipython3",
   "version": "3.10.4"
  },
  "orig_nbformat": 4,
  "vscode": {
   "interpreter": {
    "hash": "b20746fb6b31a4a3c185d8dc9e67ee27e52a348cdb9134f10f5f04eafa28ce07"
   }
  }
 },
 "nbformat": 4,
 "nbformat_minor": 2
}
