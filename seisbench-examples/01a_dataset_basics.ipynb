{
 "cells": [
  {
   "cell_type": "markdown",
   "id": "beca1ce1",
   "metadata": {},
   "source": [
    "<a href=\"https://colab.research.google.com/github/seisbench/seisbench/blob/additional_example_workflows/examples/01a_dataset_basics.ipynb\" target=\"_parent\"><img src=\"https://colab.research.google.com/assets/colab-badge.svg\" alt=\"Open In Colab\"/></a>"
   ]
  },
  {
   "cell_type": "markdown",
   "id": "e5663238",
   "metadata": {},
   "source": [
    "![image](https://raw.githubusercontent.com/seisbench/seisbench/main/docs/_static/seisbench_logo_subtitle_outlined.svg)"
   ]
  },
  {
   "cell_type": "markdown",
   "id": "2231cf03",
   "metadata": {},
   "source": [
    "*This code is necessary on colab to install SeisBench. If SeisBench is already installed on your machine, you can skip this.*"
   ]
  },
  {
   "cell_type": "code",
   "execution_count": 1,
   "id": "ca74b89d",
   "metadata": {},
   "outputs": [],
   "source": [
    "#!pip install seisbench"
   ]
  },
  {
   "cell_type": "markdown",
   "id": "67ccfc84",
   "metadata": {},
   "source": [
    "# Dataset basics\n",
    "\n",
    "This tutorial introduces the basics of datasets and benchmark datasets in SeisBench. It explains how load a dataset, how to filter it and how to access the data."
   ]
  },
  {
   "cell_type": "code",
   "execution_count": 1,
   "id": "5ec6d791",
   "metadata": {},
   "outputs": [],
   "source": [
    "import seisbench\n",
    "import seisbench.data as sbd"
   ]
  },
  {
   "cell_type": "markdown",
   "id": "d9d4208c",
   "metadata": {},
   "source": [
    "### Loading a dataset"
   ]
  },
  {
   "cell_type": "markdown",
   "id": "63978957",
   "metadata": {},
   "source": [
    "There are two ways of loading a dataset:\n",
    "1. loading a benchmark dataset\n",
    "2. loading a dataset from disk\n",
    "\n",
    "We will first explore benchmark datasets. Benchmark datasets are represented by classes in SeisBench. When instantiating the class, SeisBench will check if the data is available and otherwise download it. Our example dataset is the Iquique, that we load below."
   ]
  },
  {
   "cell_type": "code",
   "execution_count": 2,
   "id": "b0513e81",
   "metadata": {},
   "outputs": [
    {
     "name": "stderr",
     "output_type": "stream",
     "text": [
      "2022-06-27 10:58:16,752 | seisbench | WARNING | Check available storage and memory before downloading and general use of Iquique dataset. Dataset size: waveforms.hdf5 ~5Gb, metadata.csv ~2.6Mb\n"
     ]
    },
    {
     "name": "stdout",
     "output_type": "stream",
     "text": [
      "Iquique - 13400 traces\n"
     ]
    }
   ],
   "source": [
    "data = sbd.Iquique()\n",
    "print(data)"
   ]
  },
  {
   "cell_type": "markdown",
   "id": "e78d66e5",
   "metadata": {},
   "source": [
    "When running this command for the first time, the dataset is downloaded. All downloaded data is stored in the SeisBench cache. The location of the cache defaults to `~/.seisbench`, but can be set using the environment variable `SEISBENCH_CACHE_ROOT`. Let's inspect the cache. Depending which commands where used before, it contains at least the directory `datasets`. Inside this directory, each locally available dataset has its own folder. If we look into the folder `dummydataset`, we find two relevant files `metadata.csv` and `waveforms.hdf5`, containing the metadata and the waveforms."
   ]
  },
  {
   "cell_type": "code",
   "execution_count": 4,
   "id": "101aa0d7",
   "metadata": {},
   "outputs": [
    {
     "name": "stdout",
     "output_type": "stream",
     "text": [
      "Cache root: /home/javak/.seisbench\n",
      "Contents: ['datasets', 'config.json', 'models']\n",
      "datasets: ['iquique', 'dummydataset', 'geofon']\n",
      "dummydataset: ['waveforms.hdf5', 'metadata.csv']\n"
     ]
    }
   ],
   "source": [
    "import os\n",
    "print(\"Cache root:\", seisbench.cache_root)\n",
    "print(\"Contents:\", os.listdir(seisbench.cache_root))\n",
    "print(\"datasets:\", os.listdir(seisbench.cache_root / \"datasets\"))\n",
    "print(\"dummydataset:\", os.listdir(seisbench.cache_root / \"datasets\" / \"iquique\"))"
   ]
  },
  {
   "cell_type": "markdown",
   "id": "6013854f",
   "metadata": {},
   "source": [
    "The second way of loading a dataset is loading it from disk by simply providing the path to the directory containing the `metadata.csv` and `waveforms.hdf5` files. We'll demonstrate this using the DummyDataset, even though we'd always recommend loading benchmark dataset through their classes."
   ]
  },
  {
   "cell_type": "code",
   "execution_count": 5,
   "id": "bbd8359e",
   "metadata": {},
   "outputs": [
    {
     "name": "stdout",
     "output_type": "stream",
     "text": [
      "Unnamed dataset - 13400 traces\n"
     ]
    }
   ],
   "source": [
    "iquique_from_disk = sbd.WaveformDataset(seisbench.cache_root / \"datasets\" / \"iquique\")\n",
    "print(iquique_from_disk)"
   ]
  },
  {
   "cell_type": "markdown",
   "id": "51590924",
   "metadata": {},
   "source": [
    "### What does a dataset contain?"
   ]
  },
  {
   "cell_type": "markdown",
   "id": "84f58f77",
   "metadata": {},
   "source": [
    "Each dataset consists of waveforms and the associated metadata. Let's first inspect the metadata. It is represented by a pandas DataFrame and lists for each trace different attributes, describing properties of the source, the trace, the station and possibly the path. When loading a dataset, only the metadata is loaded into memory. The waveforms are loaded on demand. For details, see the section on \"Configuring a dataset\"."
   ]
  },
  {
   "cell_type": "code",
   "execution_count": 6,
   "id": "9601d50a",
   "metadata": {},
   "outputs": [
    {
     "data": {
      "text/html": [
       "<div>\n",
       "<style scoped>\n",
       "    .dataframe tbody tr th:only-of-type {\n",
       "        vertical-align: middle;\n",
       "    }\n",
       "\n",
       "    .dataframe tbody tr th {\n",
       "        vertical-align: top;\n",
       "    }\n",
       "\n",
       "    .dataframe thead th {\n",
       "        text-align: right;\n",
       "    }\n",
       "</style>\n",
       "<table border=\"1\" class=\"dataframe\">\n",
       "  <thead>\n",
       "    <tr style=\"text-align: right;\">\n",
       "      <th></th>\n",
       "      <th>source_origin_time</th>\n",
       "      <th>source_latitude_deg</th>\n",
       "      <th>source_longitude_deg</th>\n",
       "      <th>source_depth_km</th>\n",
       "      <th>path_back_azimuth_deg</th>\n",
       "      <th>station_network_code</th>\n",
       "      <th>station_code</th>\n",
       "      <th>trace_channel</th>\n",
       "      <th>station_location_code</th>\n",
       "      <th>station_latitude_deg</th>\n",
       "      <th>...</th>\n",
       "      <th>trace_sampling_rate_hz</th>\n",
       "      <th>trace_completeness</th>\n",
       "      <th>trace_has_spikes</th>\n",
       "      <th>trace_start_time</th>\n",
       "      <th>trace_P_arrival_sample</th>\n",
       "      <th>trace_S_arrival_sample</th>\n",
       "      <th>trace_name_original</th>\n",
       "      <th>trace_chunk</th>\n",
       "      <th>trace_component_order</th>\n",
       "      <th>split</th>\n",
       "    </tr>\n",
       "  </thead>\n",
       "  <tbody>\n",
       "    <tr>\n",
       "      <th>0</th>\n",
       "      <td>2014-05-01T00:52:20.970000Z</td>\n",
       "      <td>-19.4527</td>\n",
       "      <td>-69.9762</td>\n",
       "      <td>57.95</td>\n",
       "      <td>161.009411</td>\n",
       "      <td>7K</td>\n",
       "      <td>BOLO</td>\n",
       "      <td>EH*</td>\n",
       "      <td>NaN</td>\n",
       "      <td>-18.3400</td>\n",
       "      <td>...</td>\n",
       "      <td>100.0</td>\n",
       "      <td>1.0</td>\n",
       "      <td>False</td>\n",
       "      <td>2014-05-01T00:52:20.630000Z</td>\n",
       "      <td>2000.0</td>\n",
       "      <td>3564.0</td>\n",
       "      <td>7K.BOLO.</td>\n",
       "      <td></td>\n",
       "      <td>ZNE</td>\n",
       "      <td>train</td>\n",
       "    </tr>\n",
       "    <tr>\n",
       "      <th>1</th>\n",
       "      <td>2014-05-01T00:52:20.970000Z</td>\n",
       "      <td>-19.4527</td>\n",
       "      <td>-69.9762</td>\n",
       "      <td>57.95</td>\n",
       "      <td>311.334575</td>\n",
       "      <td>CX</td>\n",
       "      <td>PB08</td>\n",
       "      <td>HH*</td>\n",
       "      <td>NaN</td>\n",
       "      <td>-20.1411</td>\n",
       "      <td>...</td>\n",
       "      <td>100.0</td>\n",
       "      <td>1.0</td>\n",
       "      <td>False</td>\n",
       "      <td>2014-05-01T00:52:19.048393Z</td>\n",
       "      <td>2000.0</td>\n",
       "      <td>NaN</td>\n",
       "      <td>CX.PB08.</td>\n",
       "      <td></td>\n",
       "      <td>ZNE</td>\n",
       "      <td>test</td>\n",
       "    </tr>\n",
       "    <tr>\n",
       "      <th>2</th>\n",
       "      <td>2014-05-01T00:52:20.970000Z</td>\n",
       "      <td>-19.4527</td>\n",
       "      <td>-69.9762</td>\n",
       "      <td>57.95</td>\n",
       "      <td>329.936310</td>\n",
       "      <td>DG</td>\n",
       "      <td>IN17</td>\n",
       "      <td>HH*</td>\n",
       "      <td>NaN</td>\n",
       "      <td>-20.4800</td>\n",
       "      <td>...</td>\n",
       "      <td>100.0</td>\n",
       "      <td>1.0</td>\n",
       "      <td>False</td>\n",
       "      <td>2014-05-01T00:52:20.740000Z</td>\n",
       "      <td>2000.0</td>\n",
       "      <td>3551.0</td>\n",
       "      <td>DG.IN17.</td>\n",
       "      <td></td>\n",
       "      <td>ZNE</td>\n",
       "      <td>dev</td>\n",
       "    </tr>\n",
       "    <tr>\n",
       "      <th>3</th>\n",
       "      <td>2014-05-01T00:52:20.970000Z</td>\n",
       "      <td>-19.4527</td>\n",
       "      <td>-69.9762</td>\n",
       "      <td>57.95</td>\n",
       "      <td>327.358785</td>\n",
       "      <td>DG</td>\n",
       "      <td>IN06</td>\n",
       "      <td>HH*</td>\n",
       "      <td>NaN</td>\n",
       "      <td>-19.6100</td>\n",
       "      <td>...</td>\n",
       "      <td>100.0</td>\n",
       "      <td>1.0</td>\n",
       "      <td>False</td>\n",
       "      <td>2014-05-01T00:52:09.279762Z</td>\n",
       "      <td>2000.0</td>\n",
       "      <td>2697.0</td>\n",
       "      <td>DG.IN06.</td>\n",
       "      <td></td>\n",
       "      <td>ZNE</td>\n",
       "      <td>train</td>\n",
       "    </tr>\n",
       "    <tr>\n",
       "      <th>4</th>\n",
       "      <td>2014-05-01T00:52:20.970000Z</td>\n",
       "      <td>-19.4527</td>\n",
       "      <td>-69.9762</td>\n",
       "      <td>57.95</td>\n",
       "      <td>211.759639</td>\n",
       "      <td>DG</td>\n",
       "      <td>IN10</td>\n",
       "      <td>HH*</td>\n",
       "      <td>NaN</td>\n",
       "      <td>-19.2900</td>\n",
       "      <td>...</td>\n",
       "      <td>100.0</td>\n",
       "      <td>1.0</td>\n",
       "      <td>False</td>\n",
       "      <td>2014-05-01T00:52:09.700000Z</td>\n",
       "      <td>2000.0</td>\n",
       "      <td>2761.0</td>\n",
       "      <td>DG.IN10.</td>\n",
       "      <td></td>\n",
       "      <td>ZNE</td>\n",
       "      <td>dev</td>\n",
       "    </tr>\n",
       "    <tr>\n",
       "      <th>...</th>\n",
       "      <td>...</td>\n",
       "      <td>...</td>\n",
       "      <td>...</td>\n",
       "      <td>...</td>\n",
       "      <td>...</td>\n",
       "      <td>...</td>\n",
       "      <td>...</td>\n",
       "      <td>...</td>\n",
       "      <td>...</td>\n",
       "      <td>...</td>\n",
       "      <td>...</td>\n",
       "      <td>...</td>\n",
       "      <td>...</td>\n",
       "      <td>...</td>\n",
       "      <td>...</td>\n",
       "      <td>...</td>\n",
       "      <td>...</td>\n",
       "      <td>...</td>\n",
       "      <td>...</td>\n",
       "      <td>...</td>\n",
       "      <td>...</td>\n",
       "    </tr>\n",
       "    <tr>\n",
       "      <th>13395</th>\n",
       "      <td>2014-05-30T07:28:54.290000Z</td>\n",
       "      <td>-19.9427</td>\n",
       "      <td>-70.3741</td>\n",
       "      <td>19.73</td>\n",
       "      <td>211.433440</td>\n",
       "      <td>DG</td>\n",
       "      <td>IN23</td>\n",
       "      <td>HH*</td>\n",
       "      <td>NaN</td>\n",
       "      <td>-18.8700</td>\n",
       "      <td>...</td>\n",
       "      <td>100.0</td>\n",
       "      <td>1.0</td>\n",
       "      <td>False</td>\n",
       "      <td>2014-05-30T07:28:55.540000Z</td>\n",
       "      <td>2000.0</td>\n",
       "      <td>NaN</td>\n",
       "      <td>DG.IN23.</td>\n",
       "      <td></td>\n",
       "      <td>ZNE</td>\n",
       "      <td>test</td>\n",
       "    </tr>\n",
       "    <tr>\n",
       "      <th>13396</th>\n",
       "      <td>2014-05-30T07:28:54.290000Z</td>\n",
       "      <td>-19.9427</td>\n",
       "      <td>-70.3741</td>\n",
       "      <td>19.73</td>\n",
       "      <td>198.209665</td>\n",
       "      <td>DG</td>\n",
       "      <td>IN26</td>\n",
       "      <td>HH*</td>\n",
       "      <td>NaN</td>\n",
       "      <td>-19.0400</td>\n",
       "      <td>...</td>\n",
       "      <td>100.0</td>\n",
       "      <td>1.0</td>\n",
       "      <td>False</td>\n",
       "      <td>2014-05-30T07:28:50.370000Z</td>\n",
       "      <td>2000.0</td>\n",
       "      <td>NaN</td>\n",
       "      <td>DG.IN26.</td>\n",
       "      <td></td>\n",
       "      <td>ZNE</td>\n",
       "      <td>train</td>\n",
       "    </tr>\n",
       "    <tr>\n",
       "      <th>13397</th>\n",
       "      <td>2014-05-30T07:28:54.290000Z</td>\n",
       "      <td>-19.9427</td>\n",
       "      <td>-70.3741</td>\n",
       "      <td>19.73</td>\n",
       "      <td>254.910454</td>\n",
       "      <td>CX</td>\n",
       "      <td>PB11</td>\n",
       "      <td>HH*</td>\n",
       "      <td>NaN</td>\n",
       "      <td>-19.7610</td>\n",
       "      <td>...</td>\n",
       "      <td>100.0</td>\n",
       "      <td>1.0</td>\n",
       "      <td>False</td>\n",
       "      <td>2014-05-30T07:28:46.050000Z</td>\n",
       "      <td>2000.0</td>\n",
       "      <td>2938.0</td>\n",
       "      <td>CX.PB11.</td>\n",
       "      <td></td>\n",
       "      <td>ZNE</td>\n",
       "      <td>test</td>\n",
       "    </tr>\n",
       "    <tr>\n",
       "      <th>13398</th>\n",
       "      <td>2014-05-30T07:28:54.290000Z</td>\n",
       "      <td>-19.9427</td>\n",
       "      <td>-70.3741</td>\n",
       "      <td>19.73</td>\n",
       "      <td>181.875522</td>\n",
       "      <td>CX</td>\n",
       "      <td>PB12</td>\n",
       "      <td>HH*</td>\n",
       "      <td>NaN</td>\n",
       "      <td>-18.6141</td>\n",
       "      <td>...</td>\n",
       "      <td>100.0</td>\n",
       "      <td>1.0</td>\n",
       "      <td>False</td>\n",
       "      <td>2014-05-30T07:28:56.100000Z</td>\n",
       "      <td>2000.0</td>\n",
       "      <td>NaN</td>\n",
       "      <td>CX.PB12.</td>\n",
       "      <td></td>\n",
       "      <td>ZNE</td>\n",
       "      <td>train</td>\n",
       "    </tr>\n",
       "    <tr>\n",
       "      <th>13399</th>\n",
       "      <td>2014-05-30T07:28:54.290000Z</td>\n",
       "      <td>-19.9427</td>\n",
       "      <td>-70.3741</td>\n",
       "      <td>19.73</td>\n",
       "      <td>343.733079</td>\n",
       "      <td>C1</td>\n",
       "      <td>TA01</td>\n",
       "      <td>HH*</td>\n",
       "      <td>NaN</td>\n",
       "      <td>-20.5634</td>\n",
       "      <td>...</td>\n",
       "      <td>100.0</td>\n",
       "      <td>1.0</td>\n",
       "      <td>False</td>\n",
       "      <td>2014-05-30T07:28:44.960000Z</td>\n",
       "      <td>2000.0</td>\n",
       "      <td>NaN</td>\n",
       "      <td>C1.TA01.</td>\n",
       "      <td></td>\n",
       "      <td>ZNE</td>\n",
       "      <td>train</td>\n",
       "    </tr>\n",
       "  </tbody>\n",
       "</table>\n",
       "<p>13400 rows × 23 columns</p>\n",
       "</div>"
      ],
      "text/plain": [
       "                source_origin_time  source_latitude_deg  source_longitude_deg  \\\n",
       "0      2014-05-01T00:52:20.970000Z             -19.4527              -69.9762   \n",
       "1      2014-05-01T00:52:20.970000Z             -19.4527              -69.9762   \n",
       "2      2014-05-01T00:52:20.970000Z             -19.4527              -69.9762   \n",
       "3      2014-05-01T00:52:20.970000Z             -19.4527              -69.9762   \n",
       "4      2014-05-01T00:52:20.970000Z             -19.4527              -69.9762   \n",
       "...                            ...                  ...                   ...   \n",
       "13395  2014-05-30T07:28:54.290000Z             -19.9427              -70.3741   \n",
       "13396  2014-05-30T07:28:54.290000Z             -19.9427              -70.3741   \n",
       "13397  2014-05-30T07:28:54.290000Z             -19.9427              -70.3741   \n",
       "13398  2014-05-30T07:28:54.290000Z             -19.9427              -70.3741   \n",
       "13399  2014-05-30T07:28:54.290000Z             -19.9427              -70.3741   \n",
       "\n",
       "       source_depth_km  path_back_azimuth_deg station_network_code  \\\n",
       "0                57.95             161.009411                   7K   \n",
       "1                57.95             311.334575                   CX   \n",
       "2                57.95             329.936310                   DG   \n",
       "3                57.95             327.358785                   DG   \n",
       "4                57.95             211.759639                   DG   \n",
       "...                ...                    ...                  ...   \n",
       "13395            19.73             211.433440                   DG   \n",
       "13396            19.73             198.209665                   DG   \n",
       "13397            19.73             254.910454                   CX   \n",
       "13398            19.73             181.875522                   CX   \n",
       "13399            19.73             343.733079                   C1   \n",
       "\n",
       "      station_code trace_channel  station_location_code  station_latitude_deg  \\\n",
       "0             BOLO           EH*                    NaN              -18.3400   \n",
       "1             PB08           HH*                    NaN              -20.1411   \n",
       "2             IN17           HH*                    NaN              -20.4800   \n",
       "3             IN06           HH*                    NaN              -19.6100   \n",
       "4             IN10           HH*                    NaN              -19.2900   \n",
       "...            ...           ...                    ...                   ...   \n",
       "13395         IN23           HH*                    NaN              -18.8700   \n",
       "13396         IN26           HH*                    NaN              -19.0400   \n",
       "13397         PB11           HH*                    NaN              -19.7610   \n",
       "13398         PB12           HH*                    NaN              -18.6141   \n",
       "13399         TA01           HH*                    NaN              -20.5634   \n",
       "\n",
       "       ...  trace_sampling_rate_hz  trace_completeness trace_has_spikes  \\\n",
       "0      ...                   100.0                 1.0            False   \n",
       "1      ...                   100.0                 1.0            False   \n",
       "2      ...                   100.0                 1.0            False   \n",
       "3      ...                   100.0                 1.0            False   \n",
       "4      ...                   100.0                 1.0            False   \n",
       "...    ...                     ...                 ...              ...   \n",
       "13395  ...                   100.0                 1.0            False   \n",
       "13396  ...                   100.0                 1.0            False   \n",
       "13397  ...                   100.0                 1.0            False   \n",
       "13398  ...                   100.0                 1.0            False   \n",
       "13399  ...                   100.0                 1.0            False   \n",
       "\n",
       "                  trace_start_time  trace_P_arrival_sample  \\\n",
       "0      2014-05-01T00:52:20.630000Z                  2000.0   \n",
       "1      2014-05-01T00:52:19.048393Z                  2000.0   \n",
       "2      2014-05-01T00:52:20.740000Z                  2000.0   \n",
       "3      2014-05-01T00:52:09.279762Z                  2000.0   \n",
       "4      2014-05-01T00:52:09.700000Z                  2000.0   \n",
       "...                            ...                     ...   \n",
       "13395  2014-05-30T07:28:55.540000Z                  2000.0   \n",
       "13396  2014-05-30T07:28:50.370000Z                  2000.0   \n",
       "13397  2014-05-30T07:28:46.050000Z                  2000.0   \n",
       "13398  2014-05-30T07:28:56.100000Z                  2000.0   \n",
       "13399  2014-05-30T07:28:44.960000Z                  2000.0   \n",
       "\n",
       "       trace_S_arrival_sample trace_name_original  trace_chunk  \\\n",
       "0                      3564.0            7K.BOLO.                \n",
       "1                         NaN            CX.PB08.                \n",
       "2                      3551.0            DG.IN17.                \n",
       "3                      2697.0            DG.IN06.                \n",
       "4                      2761.0            DG.IN10.                \n",
       "...                       ...                 ...          ...   \n",
       "13395                     NaN            DG.IN23.                \n",
       "13396                     NaN            DG.IN26.                \n",
       "13397                  2938.0            CX.PB11.                \n",
       "13398                     NaN            CX.PB12.                \n",
       "13399                     NaN            C1.TA01.                \n",
       "\n",
       "       trace_component_order  split  \n",
       "0                        ZNE  train  \n",
       "1                        ZNE   test  \n",
       "2                        ZNE    dev  \n",
       "3                        ZNE  train  \n",
       "4                        ZNE    dev  \n",
       "...                      ...    ...  \n",
       "13395                    ZNE   test  \n",
       "13396                    ZNE  train  \n",
       "13397                    ZNE   test  \n",
       "13398                    ZNE  train  \n",
       "13399                    ZNE  train  \n",
       "\n",
       "[13400 rows x 23 columns]"
      ]
     },
     "execution_count": 6,
     "metadata": {},
     "output_type": "execute_result"
    }
   ],
   "source": [
    "data.metadata"
   ]
  },
  {
   "cell_type": "markdown",
   "id": "6fb6a082",
   "metadata": {},
   "source": [
    "Now let's say, we want to obtain the waveforms associated with trace 3. This can be done using the `get_waveforms` method."
   ]
  },
  {
   "cell_type": "code",
   "execution_count": 7,
   "id": "8729601f",
   "metadata": {},
   "outputs": [
    {
     "name": "stdout",
     "output_type": "stream",
     "text": [
      "waveforms.shape: [[ 208.47940658  183.47940658  165.47940658 ... -145.52059342\n",
      "  -108.52059342  -96.52059342]\n",
      " [ 137.32021406  146.32021406  138.32021406 ...  444.32021406\n",
      "   451.32021406  462.32021406]\n",
      " [  29.57024793   29.57024793   29.57024793 ...  518.57024793\n",
      "   530.57024793  531.57024793]]\n"
     ]
    },
    {
     "data": {
      "image/png": "[encoded data removed]",
      "text/plain": [
       "<Figure size 432x288 with 1 Axes>"
      ]
     },
     "metadata": {
      "needs_background": "light"
     },
     "output_type": "display_data"
    }
   ],
   "source": [
    "waveforms = data.get_waveforms(4)\n",
    "print(\"waveforms.shape:\", waveforms)\n",
    "\n",
    "import matplotlib.pyplot as plt\n",
    "plt.plot(waveforms.T);"
   ]
  },
  {
   "cell_type": "markdown",
   "id": "be341236",
   "metadata": {},
   "source": [
    "You can also request waveforms for multiple traces at once."
   ]
  },
  {
   "cell_type": "code",
   "execution_count": 8,
   "id": "001ed495",
   "metadata": {},
   "outputs": [
    {
     "name": "stdout",
     "output_type": "stream",
     "text": [
      "waveforms.shape: (4, 3, 16139)\n"
     ]
    }
   ],
   "source": [
    "waveforms = data.get_waveforms([3, 20, 45, 70])\n",
    "print(\"waveforms.shape:\", waveforms.shape)"
   ]
  },
  {
   "cell_type": "markdown",
   "id": "41c43871",
   "metadata": {},
   "source": [
    "Benchmark dataset contain several special attributes, which simple waveform dataset do not posses. Here are two examples:"
   ]
  },
  {
   "cell_type": "code",
   "execution_count": 9,
   "id": "d1e68fd3",
   "metadata": {},
   "outputs": [
    {
     "name": "stdout",
     "output_type": "stream",
     "text": [
      "Citation: Woollam, J., Rietbrock, A., Bueno, A. and De Angelis, S., 2019. Convolutional neural network for seismic phase classification, performance demonstration over a local seismic network. Seismological Research Letters, 90(2A), pp.491-502. https://doi.org/10.1785/0220180312\n",
      "License: None\n"
     ]
    }
   ],
   "source": [
    "print('Citation:', data.citation)\n",
    "print('License:', data.license)"
   ]
  },
  {
   "cell_type": "markdown",
   "id": "c06b7931",
   "metadata": {},
   "source": [
    "### Filtering a dataset"
   ]
  },
  {
   "cell_type": "markdown",
   "id": "ca131d4a",
   "metadata": {},
   "source": [
    "Often, you don't want to use a full dataset, but only parts of it. For this, datasets offer the `filter` method. By default `filter` is applied inplace, but it can also be used to return the desired subset."
   ]
  },
  {
   "cell_type": "code",
   "execution_count": 10,
   "id": "3938635b",
   "metadata": {},
   "outputs": [
    {
     "name": "stdout",
     "output_type": "stream",
     "text": [
      "Iquique - 13400 traces\n"
     ]
    },
    {
     "data": {
      "text/html": [
       "<div>\n",
       "<style scoped>\n",
       "    .dataframe tbody tr th:only-of-type {\n",
       "        vertical-align: middle;\n",
       "    }\n",
       "\n",
       "    .dataframe tbody tr th {\n",
       "        vertical-align: top;\n",
       "    }\n",
       "\n",
       "    .dataframe thead th {\n",
       "        text-align: right;\n",
       "    }\n",
       "</style>\n",
       "<table border=\"1\" class=\"dataframe\">\n",
       "  <thead>\n",
       "    <tr style=\"text-align: right;\">\n",
       "      <th></th>\n",
       "      <th>source_origin_time</th>\n",
       "      <th>source_latitude_deg</th>\n",
       "      <th>source_longitude_deg</th>\n",
       "      <th>source_depth_km</th>\n",
       "      <th>path_back_azimuth_deg</th>\n",
       "      <th>station_network_code</th>\n",
       "      <th>station_code</th>\n",
       "      <th>trace_channel</th>\n",
       "      <th>station_location_code</th>\n",
       "      <th>station_latitude_deg</th>\n",
       "      <th>...</th>\n",
       "      <th>trace_sampling_rate_hz</th>\n",
       "      <th>trace_completeness</th>\n",
       "      <th>trace_has_spikes</th>\n",
       "      <th>trace_start_time</th>\n",
       "      <th>trace_P_arrival_sample</th>\n",
       "      <th>trace_S_arrival_sample</th>\n",
       "      <th>trace_name_original</th>\n",
       "      <th>trace_chunk</th>\n",
       "      <th>trace_component_order</th>\n",
       "      <th>split</th>\n",
       "    </tr>\n",
       "  </thead>\n",
       "  <tbody>\n",
       "    <tr>\n",
       "      <th>0</th>\n",
       "      <td>2014-05-01T00:52:20.970000Z</td>\n",
       "      <td>-19.4527</td>\n",
       "      <td>-69.9762</td>\n",
       "      <td>57.95</td>\n",
       "      <td>161.009411</td>\n",
       "      <td>7K</td>\n",
       "      <td>BOLO</td>\n",
       "      <td>EH*</td>\n",
       "      <td>NaN</td>\n",
       "      <td>-18.3400</td>\n",
       "      <td>...</td>\n",
       "      <td>100.0</td>\n",
       "      <td>1.0</td>\n",
       "      <td>False</td>\n",
       "      <td>2014-05-01T00:52:20.630000Z</td>\n",
       "      <td>2000.0</td>\n",
       "      <td>3564.0</td>\n",
       "      <td>7K.BOLO.</td>\n",
       "      <td></td>\n",
       "      <td>ZNE</td>\n",
       "      <td>train</td>\n",
       "    </tr>\n",
       "    <tr>\n",
       "      <th>1</th>\n",
       "      <td>2014-05-01T00:52:20.970000Z</td>\n",
       "      <td>-19.4527</td>\n",
       "      <td>-69.9762</td>\n",
       "      <td>57.95</td>\n",
       "      <td>311.334575</td>\n",
       "      <td>CX</td>\n",
       "      <td>PB08</td>\n",
       "      <td>HH*</td>\n",
       "      <td>NaN</td>\n",
       "      <td>-20.1411</td>\n",
       "      <td>...</td>\n",
       "      <td>100.0</td>\n",
       "      <td>1.0</td>\n",
       "      <td>False</td>\n",
       "      <td>2014-05-01T00:52:19.048393Z</td>\n",
       "      <td>2000.0</td>\n",
       "      <td>NaN</td>\n",
       "      <td>CX.PB08.</td>\n",
       "      <td></td>\n",
       "      <td>ZNE</td>\n",
       "      <td>test</td>\n",
       "    </tr>\n",
       "    <tr>\n",
       "      <th>2</th>\n",
       "      <td>2014-05-01T00:52:20.970000Z</td>\n",
       "      <td>-19.4527</td>\n",
       "      <td>-69.9762</td>\n",
       "      <td>57.95</td>\n",
       "      <td>329.936310</td>\n",
       "      <td>DG</td>\n",
       "      <td>IN17</td>\n",
       "      <td>HH*</td>\n",
       "      <td>NaN</td>\n",
       "      <td>-20.4800</td>\n",
       "      <td>...</td>\n",
       "      <td>100.0</td>\n",
       "      <td>1.0</td>\n",
       "      <td>False</td>\n",
       "      <td>2014-05-01T00:52:20.740000Z</td>\n",
       "      <td>2000.0</td>\n",
       "      <td>3551.0</td>\n",
       "      <td>DG.IN17.</td>\n",
       "      <td></td>\n",
       "      <td>ZNE</td>\n",
       "      <td>dev</td>\n",
       "    </tr>\n",
       "    <tr>\n",
       "      <th>3</th>\n",
       "      <td>2014-05-01T00:52:20.970000Z</td>\n",
       "      <td>-19.4527</td>\n",
       "      <td>-69.9762</td>\n",
       "      <td>57.95</td>\n",
       "      <td>327.358785</td>\n",
       "      <td>DG</td>\n",
       "      <td>IN06</td>\n",
       "      <td>HH*</td>\n",
       "      <td>NaN</td>\n",
       "      <td>-19.6100</td>\n",
       "      <td>...</td>\n",
       "      <td>100.0</td>\n",
       "      <td>1.0</td>\n",
       "      <td>False</td>\n",
       "      <td>2014-05-01T00:52:09.279762Z</td>\n",
       "      <td>2000.0</td>\n",
       "      <td>2697.0</td>\n",
       "      <td>DG.IN06.</td>\n",
       "      <td></td>\n",
       "      <td>ZNE</td>\n",
       "      <td>train</td>\n",
       "    </tr>\n",
       "    <tr>\n",
       "      <th>4</th>\n",
       "      <td>2014-05-01T00:52:20.970000Z</td>\n",
       "      <td>-19.4527</td>\n",
       "      <td>-69.9762</td>\n",
       "      <td>57.95</td>\n",
       "      <td>211.759639</td>\n",
       "      <td>DG</td>\n",
       "      <td>IN10</td>\n",
       "      <td>HH*</td>\n",
       "      <td>NaN</td>\n",
       "      <td>-19.2900</td>\n",
       "      <td>...</td>\n",
       "      <td>100.0</td>\n",
       "      <td>1.0</td>\n",
       "      <td>False</td>\n",
       "      <td>2014-05-01T00:52:09.700000Z</td>\n",
       "      <td>2000.0</td>\n",
       "      <td>2761.0</td>\n",
       "      <td>DG.IN10.</td>\n",
       "      <td></td>\n",
       "      <td>ZNE</td>\n",
       "      <td>dev</td>\n",
       "    </tr>\n",
       "    <tr>\n",
       "      <th>...</th>\n",
       "      <td>...</td>\n",
       "      <td>...</td>\n",
       "      <td>...</td>\n",
       "      <td>...</td>\n",
       "      <td>...</td>\n",
       "      <td>...</td>\n",
       "      <td>...</td>\n",
       "      <td>...</td>\n",
       "      <td>...</td>\n",
       "      <td>...</td>\n",
       "      <td>...</td>\n",
       "      <td>...</td>\n",
       "      <td>...</td>\n",
       "      <td>...</td>\n",
       "      <td>...</td>\n",
       "      <td>...</td>\n",
       "      <td>...</td>\n",
       "      <td>...</td>\n",
       "      <td>...</td>\n",
       "      <td>...</td>\n",
       "      <td>...</td>\n",
       "    </tr>\n",
       "    <tr>\n",
       "      <th>13395</th>\n",
       "      <td>2014-05-30T07:28:54.290000Z</td>\n",
       "      <td>-19.9427</td>\n",
       "      <td>-70.3741</td>\n",
       "      <td>19.73</td>\n",
       "      <td>211.433440</td>\n",
       "      <td>DG</td>\n",
       "      <td>IN23</td>\n",
       "      <td>HH*</td>\n",
       "      <td>NaN</td>\n",
       "      <td>-18.8700</td>\n",
       "      <td>...</td>\n",
       "      <td>100.0</td>\n",
       "      <td>1.0</td>\n",
       "      <td>False</td>\n",
       "      <td>2014-05-30T07:28:55.540000Z</td>\n",
       "      <td>2000.0</td>\n",
       "      <td>NaN</td>\n",
       "      <td>DG.IN23.</td>\n",
       "      <td></td>\n",
       "      <td>ZNE</td>\n",
       "      <td>test</td>\n",
       "    </tr>\n",
       "    <tr>\n",
       "      <th>13396</th>\n",
       "      <td>2014-05-30T07:28:54.290000Z</td>\n",
       "      <td>-19.9427</td>\n",
       "      <td>-70.3741</td>\n",
       "      <td>19.73</td>\n",
       "      <td>198.209665</td>\n",
       "      <td>DG</td>\n",
       "      <td>IN26</td>\n",
       "      <td>HH*</td>\n",
       "      <td>NaN</td>\n",
       "      <td>-19.0400</td>\n",
       "      <td>...</td>\n",
       "      <td>100.0</td>\n",
       "      <td>1.0</td>\n",
       "      <td>False</td>\n",
       "      <td>2014-05-30T07:28:50.370000Z</td>\n",
       "      <td>2000.0</td>\n",
       "      <td>NaN</td>\n",
       "      <td>DG.IN26.</td>\n",
       "      <td></td>\n",
       "      <td>ZNE</td>\n",
       "      <td>train</td>\n",
       "    </tr>\n",
       "    <tr>\n",
       "      <th>13397</th>\n",
       "      <td>2014-05-30T07:28:54.290000Z</td>\n",
       "      <td>-19.9427</td>\n",
       "      <td>-70.3741</td>\n",
       "      <td>19.73</td>\n",
       "      <td>254.910454</td>\n",
       "      <td>CX</td>\n",
       "      <td>PB11</td>\n",
       "      <td>HH*</td>\n",
       "      <td>NaN</td>\n",
       "      <td>-19.7610</td>\n",
       "      <td>...</td>\n",
       "      <td>100.0</td>\n",
       "      <td>1.0</td>\n",
       "      <td>False</td>\n",
       "      <td>2014-05-30T07:28:46.050000Z</td>\n",
       "      <td>2000.0</td>\n",
       "      <td>2938.0</td>\n",
       "      <td>CX.PB11.</td>\n",
       "      <td></td>\n",
       "      <td>ZNE</td>\n",
       "      <td>test</td>\n",
       "    </tr>\n",
       "    <tr>\n",
       "      <th>13398</th>\n",
       "      <td>2014-05-30T07:28:54.290000Z</td>\n",
       "      <td>-19.9427</td>\n",
       "      <td>-70.3741</td>\n",
       "      <td>19.73</td>\n",
       "      <td>181.875522</td>\n",
       "      <td>CX</td>\n",
       "      <td>PB12</td>\n",
       "      <td>HH*</td>\n",
       "      <td>NaN</td>\n",
       "      <td>-18.6141</td>\n",
       "      <td>...</td>\n",
       "      <td>100.0</td>\n",
       "      <td>1.0</td>\n",
       "      <td>False</td>\n",
       "      <td>2014-05-30T07:28:56.100000Z</td>\n",
       "      <td>2000.0</td>\n",
       "      <td>NaN</td>\n",
       "      <td>CX.PB12.</td>\n",
       "      <td></td>\n",
       "      <td>ZNE</td>\n",
       "      <td>train</td>\n",
       "    </tr>\n",
       "    <tr>\n",
       "      <th>13399</th>\n",
       "      <td>2014-05-30T07:28:54.290000Z</td>\n",
       "      <td>-19.9427</td>\n",
       "      <td>-70.3741</td>\n",
       "      <td>19.73</td>\n",
       "      <td>343.733079</td>\n",
       "      <td>C1</td>\n",
       "      <td>TA01</td>\n",
       "      <td>HH*</td>\n",
       "      <td>NaN</td>\n",
       "      <td>-20.5634</td>\n",
       "      <td>...</td>\n",
       "      <td>100.0</td>\n",
       "      <td>1.0</td>\n",
       "      <td>False</td>\n",
       "      <td>2014-05-30T07:28:44.960000Z</td>\n",
       "      <td>2000.0</td>\n",
       "      <td>NaN</td>\n",
       "      <td>C1.TA01.</td>\n",
       "      <td></td>\n",
       "      <td>ZNE</td>\n",
       "      <td>train</td>\n",
       "    </tr>\n",
       "  </tbody>\n",
       "</table>\n",
       "<p>13400 rows × 23 columns</p>\n",
       "</div>"
      ],
      "text/plain": [
       "                source_origin_time  source_latitude_deg  source_longitude_deg  \\\n",
       "0      2014-05-01T00:52:20.970000Z             -19.4527              -69.9762   \n",
       "1      2014-05-01T00:52:20.970000Z             -19.4527              -69.9762   \n",
       "2      2014-05-01T00:52:20.970000Z             -19.4527              -69.9762   \n",
       "3      2014-05-01T00:52:20.970000Z             -19.4527              -69.9762   \n",
       "4      2014-05-01T00:52:20.970000Z             -19.4527              -69.9762   \n",
       "...                            ...                  ...                   ...   \n",
       "13395  2014-05-30T07:28:54.290000Z             -19.9427              -70.3741   \n",
       "13396  2014-05-30T07:28:54.290000Z             -19.9427              -70.3741   \n",
       "13397  2014-05-30T07:28:54.290000Z             -19.9427              -70.3741   \n",
       "13398  2014-05-30T07:28:54.290000Z             -19.9427              -70.3741   \n",
       "13399  2014-05-30T07:28:54.290000Z             -19.9427              -70.3741   \n",
       "\n",
       "       source_depth_km  path_back_azimuth_deg station_network_code  \\\n",
       "0                57.95             161.009411                   7K   \n",
       "1                57.95             311.334575                   CX   \n",
       "2                57.95             329.936310                   DG   \n",
       "3                57.95             327.358785                   DG   \n",
       "4                57.95             211.759639                   DG   \n",
       "...                ...                    ...                  ...   \n",
       "13395            19.73             211.433440                   DG   \n",
       "13396            19.73             198.209665                   DG   \n",
       "13397            19.73             254.910454                   CX   \n",
       "13398            19.73             181.875522                   CX   \n",
       "13399            19.73             343.733079                   C1   \n",
       "\n",
       "      station_code trace_channel  station_location_code  station_latitude_deg  \\\n",
       "0             BOLO           EH*                    NaN              -18.3400   \n",
       "1             PB08           HH*                    NaN              -20.1411   \n",
       "2             IN17           HH*                    NaN              -20.4800   \n",
       "3             IN06           HH*                    NaN              -19.6100   \n",
       "4             IN10           HH*                    NaN              -19.2900   \n",
       "...            ...           ...                    ...                   ...   \n",
       "13395         IN23           HH*                    NaN              -18.8700   \n",
       "13396         IN26           HH*                    NaN              -19.0400   \n",
       "13397         PB11           HH*                    NaN              -19.7610   \n",
       "13398         PB12           HH*                    NaN              -18.6141   \n",
       "13399         TA01           HH*                    NaN              -20.5634   \n",
       "\n",
       "       ...  trace_sampling_rate_hz  trace_completeness trace_has_spikes  \\\n",
       "0      ...                   100.0                 1.0            False   \n",
       "1      ...                   100.0                 1.0            False   \n",
       "2      ...                   100.0                 1.0            False   \n",
       "3      ...                   100.0                 1.0            False   \n",
       "4      ...                   100.0                 1.0            False   \n",
       "...    ...                     ...                 ...              ...   \n",
       "13395  ...                   100.0                 1.0            False   \n",
       "13396  ...                   100.0                 1.0            False   \n",
       "13397  ...                   100.0                 1.0            False   \n",
       "13398  ...                   100.0                 1.0            False   \n",
       "13399  ...                   100.0                 1.0            False   \n",
       "\n",
       "                  trace_start_time  trace_P_arrival_sample  \\\n",
       "0      2014-05-01T00:52:20.630000Z                  2000.0   \n",
       "1      2014-05-01T00:52:19.048393Z                  2000.0   \n",
       "2      2014-05-01T00:52:20.740000Z                  2000.0   \n",
       "3      2014-05-01T00:52:09.279762Z                  2000.0   \n",
       "4      2014-05-01T00:52:09.700000Z                  2000.0   \n",
       "...                            ...                     ...   \n",
       "13395  2014-05-30T07:28:55.540000Z                  2000.0   \n",
       "13396  2014-05-30T07:28:50.370000Z                  2000.0   \n",
       "13397  2014-05-30T07:28:46.050000Z                  2000.0   \n",
       "13398  2014-05-30T07:28:56.100000Z                  2000.0   \n",
       "13399  2014-05-30T07:28:44.960000Z                  2000.0   \n",
       "\n",
       "       trace_S_arrival_sample trace_name_original  trace_chunk  \\\n",
       "0                      3564.0            7K.BOLO.                \n",
       "1                         NaN            CX.PB08.                \n",
       "2                      3551.0            DG.IN17.                \n",
       "3                      2697.0            DG.IN06.                \n",
       "4                      2761.0            DG.IN10.                \n",
       "...                       ...                 ...          ...   \n",
       "13395                     NaN            DG.IN23.                \n",
       "13396                     NaN            DG.IN26.                \n",
       "13397                  2938.0            CX.PB11.                \n",
       "13398                     NaN            CX.PB12.                \n",
       "13399                     NaN            C1.TA01.                \n",
       "\n",
       "       trace_component_order  split  \n",
       "0                        ZNE  train  \n",
       "1                        ZNE   test  \n",
       "2                        ZNE    dev  \n",
       "3                        ZNE  train  \n",
       "4                        ZNE    dev  \n",
       "...                      ...    ...  \n",
       "13395                    ZNE   test  \n",
       "13396                    ZNE  train  \n",
       "13397                    ZNE   test  \n",
       "13398                    ZNE  train  \n",
       "13399                    ZNE  train  \n",
       "\n",
       "[13400 rows x 23 columns]"
      ]
     },
     "execution_count": 10,
     "metadata": {},
     "output_type": "execute_result"
    }
   ],
   "source": [
    "mask = data.metadata[\"source_depth_km\"] > 10  # Only select events with magnitude above 2.5\n",
    "data.filter(mask)\n",
    "\n",
    "print(data)\n",
    "data.metadata"
   ]
  },
  {
   "cell_type": "markdown",
   "id": "617cd977",
   "metadata": {},
   "source": [
    "A special case of filtering is to access the training, development and test splits of a dataset. Most datasets in SeisBench define those splits."
   ]
  },
  {
   "cell_type": "code",
   "execution_count": 11,
   "id": "20fdb25c",
   "metadata": {},
   "outputs": [
    {
     "name": "stderr",
     "output_type": "stream",
     "text": [
      "2022-06-25 22:20:13,018 | seisbench | WARNING | Check available storage and memory before downloading and general use of Iquique dataset. Dataset size: waveforms.hdf5 ~5Gb, metadata.csv ~2.6Mb\n"
     ]
    },
    {
     "name": "stdout",
     "output_type": "stream",
     "text": [
      "Train: Iquique - 8040 traces\n",
      "Dev: Iquique - 1340 traces\n",
      "Test: Iquique - 4020 traces\n"
     ]
    }
   ],
   "source": [
    "data = sbd.Iquique() # Reload to ensure we have the full dataset again\n",
    "\n",
    "train = data.train()\n",
    "dev = data.dev()\n",
    "test = data.test()\n",
    "\n",
    "print(\"Train:\", train)\n",
    "print(\"Dev:\", dev)\n",
    "print(\"Test:\", test)"
   ]
  },
  {
   "cell_type": "markdown",
   "id": "0f865e65",
   "metadata": {},
   "source": [
    "You can also use a shorthand notation to split the dataset into its parts:"
   ]
  },
  {
   "cell_type": "code",
   "execution_count": 12,
   "id": "1ff4b676",
   "metadata": {},
   "outputs": [
    {
     "name": "stdout",
     "output_type": "stream",
     "text": [
      "Train: Iquique - 8040 traces\n",
      "Dev: Iquique - 1340 traces\n",
      "Test: Iquique - 4020 traces\n"
     ]
    }
   ],
   "source": [
    "train, dev, test = data.train_dev_test()\n",
    "\n",
    "print(\"Train:\", train)\n",
    "print(\"Dev:\", dev)\n",
    "print(\"Test:\", test)"
   ]
  },
  {
   "cell_type": "markdown",
   "id": "8333853a",
   "metadata": {},
   "source": [
    "### Configuring a dataset"
   ]
  },
  {
   "cell_type": "markdown",
   "id": "7d125cb7",
   "metadata": {},
   "source": [
    "Datasets offer a range of configuration options. Here, we are going to explore four of them:\n",
    "\n",
    "- component order\n",
    "- dimension order\n",
    "- sampling rate\n",
    "- waveform caching"
   ]
  },
  {
   "cell_type": "markdown",
   "id": "a1da6531",
   "metadata": {},
   "source": [
    "Standard seismometers will consist of three components, commonly vertical (Z), north-south (N) and east-west (E). Depending on your application, you'll need to arrange the components differently. SeisBench can do this automatically. Here is an example:"
   ]
  },
  {
   "cell_type": "code",
   "execution_count": 13,
   "id": "68b8dc26",
   "metadata": {},
   "outputs": [
    {
     "name": "stderr",
     "output_type": "stream",
     "text": [
      "2022-06-25 22:20:13,565 | seisbench | WARNING | Check available storage and memory before downloading and general use of Iquique dataset. Dataset size: waveforms.hdf5 ~5Gb, metadata.csv ~2.6Mb\n",
      "2022-06-25 22:20:13,704 | seisbench | WARNING | Check available storage and memory before downloading and general use of Iquique dataset. Dataset size: waveforms.hdf5 ~5Gb, metadata.csv ~2.6Mb\n"
     ]
    },
    {
     "name": "stdout",
     "output_type": "stream",
     "text": [
      "ZNE:\n",
      " [[-3456.97545618 -3258.97545618 -2928.97545618 -2388.97545618\n",
      "  -1505.97545618]\n",
      " [-1260.0849396  -1331.0849396  -1305.0849396  -1256.0849396\n",
      "  -1237.0849396 ]\n",
      " [ 1498.90812131  1837.90812131  2177.90812131  2478.90812131\n",
      "   2705.90812131]]\n",
      "NEZ:\n",
      " [[-1260.0849396  -1331.0849396  -1305.0849396  -1256.0849396\n",
      "  -1237.0849396 ]\n",
      " [ 1498.90812131  1837.90812131  2177.90812131  2478.90812131\n",
      "   2705.90812131]\n",
      " [-3456.97545618 -3258.97545618 -2928.97545618 -2388.97545618\n",
      "  -1505.97545618]]\n"
     ]
    }
   ],
   "source": [
    "data = sbd.Iquique(component_order=\"ZNE\")\n",
    "zne_array = data.get_waveforms(0)\n",
    "\n",
    "data = sbd.Iquique(component_order=\"NEZ\")\n",
    "nez_array = data.get_waveforms(0)\n",
    "\n",
    "print('ZNE:\\n', zne_array[:, :5])\n",
    "print('NEZ:\\n', nez_array[:, :5])"
   ]
  },
  {
   "cell_type": "markdown",
   "id": "4be9770b",
   "metadata": {},
   "source": [
    "Sometimes, not all components are available. You can use the `missing_components` parameter to define how to handle this case. Check the documentation for details."
   ]
  },
  {
   "cell_type": "markdown",
   "id": "042c88ab",
   "metadata": {},
   "source": [
    "Similar to the component order, the dimension order specifies how to order the dimensions of your data, i.e., the traces (N), the channels (C) and the samples (W)."
   ]
  },
  {
   "cell_type": "code",
   "execution_count": 14,
   "id": "6c764200",
   "metadata": {},
   "outputs": [
    {
     "name": "stderr",
     "output_type": "stream",
     "text": [
      "2022-06-25 22:20:13,941 | seisbench | WARNING | Check available storage and memory before downloading and general use of Iquique dataset. Dataset size: waveforms.hdf5 ~5Gb, metadata.csv ~2.6Mb\n",
      "2022-06-25 22:20:14,110 | seisbench | WARNING | Check available storage and memory before downloading and general use of Iquique dataset. Dataset size: waveforms.hdf5 ~5Gb, metadata.csv ~2.6Mb\n"
     ]
    },
    {
     "name": "stdout",
     "output_type": "stream",
     "text": [
      "NCW - waveforms.shape: (4, 3, 16139)\n",
      "NWC - waveforms.shape: (4, 16139, 3)\n"
     ]
    }
   ],
   "source": [
    "data = sbd.Iquique(dimension_order=\"NCW\")\n",
    "waveforms = data.get_waveforms([3, 20, 45, 70])\n",
    "print(\"NCW - waveforms.shape:\", waveforms.shape)\n",
    "\n",
    "data = sbd.Iquique(dimension_order=\"NWC\")\n",
    "waveforms = data.get_waveforms([3, 20, 45, 70])\n",
    "print(\"NWC - waveforms.shape:\", waveforms.shape)"
   ]
  },
  {
   "cell_type": "markdown",
   "id": "f3adaa2c",
   "metadata": {},
   "source": [
    "Often, applications will require waveforms of a specific sampling rate. By default, seisbench will return data at the sampling rate provided in the dataset. However, you can configure datasets to always return a specific sampling rate, simply by setting it in the constructor. SeisBench will then automatically resample the trace."
   ]
  },
  {
   "cell_type": "code",
   "execution_count": 15,
   "id": "25251b18",
   "metadata": {},
   "outputs": [
    {
     "name": "stderr",
     "output_type": "stream",
     "text": [
      "2022-06-25 22:20:14,400 | seisbench | WARNING | Check available storage and memory before downloading and general use of Iquique dataset. Dataset size: waveforms.hdf5 ~5Gb, metadata.csv ~2.6Mb\n",
      "2022-06-25 22:20:14,533 | seisbench | WARNING | Check available storage and memory before downloading and general use of Iquique dataset. Dataset size: waveforms.hdf5 ~5Gb, metadata.csv ~2.6Mb\n"
     ]
    },
    {
     "name": "stdout",
     "output_type": "stream",
     "text": [
      "100 Hz - waveforms.shape: (3, 14698)\n",
      "200 Hz - waveforms.shape: (3, 29396)\n"
     ]
    }
   ],
   "source": [
    "data = sbd.Iquique(sampling_rate=100)\n",
    "waveforms = data.get_waveforms(3)\n",
    "print(\"100 Hz - waveforms.shape:\", waveforms.shape)\n",
    "\n",
    "data = sbd.Iquique(sampling_rate=200)\n",
    "waveforms = data.get_waveforms(3)\n",
    "print(\"200 Hz - waveforms.shape:\", waveforms.shape)"
   ]
  },
  {
   "cell_type": "markdown",
   "id": "c80234e4",
   "metadata": {},
   "source": [
    "Alternatively, you can specify the sampling rate in a call to `get_waveforms`."
   ]
  },
  {
   "cell_type": "code",
   "execution_count": 16,
   "id": "6ad08b50",
   "metadata": {},
   "outputs": [
    {
     "name": "stderr",
     "output_type": "stream",
     "text": [
      "2022-06-25 22:20:14,830 | seisbench | WARNING | Check available storage and memory before downloading and general use of Iquique dataset. Dataset size: waveforms.hdf5 ~5Gb, metadata.csv ~2.6Mb\n"
     ]
    },
    {
     "name": "stdout",
     "output_type": "stream",
     "text": [
      "100 Hz - waveforms.shape: (3, 14698)\n",
      "200 Hz - waveforms.shape: (3, 29396)\n"
     ]
    }
   ],
   "source": [
    "data = sbd.Iquique()\n",
    "\n",
    "waveforms = data.get_waveforms(3, sampling_rate=100)\n",
    "print(\"100 Hz - waveforms.shape:\", waveforms.shape)\n",
    "waveforms = data.get_waveforms(3, sampling_rate=200)\n",
    "print(\"200 Hz - waveforms.shape:\", waveforms.shape)"
   ]
  },
  {
   "cell_type": "markdown",
   "id": "91e5776c",
   "metadata": {},
   "source": [
    "The last configuration option discussed in this tutorial is waveform caching. As mentioned earlier, loading a dataset actually only loads the metadata into memory, and only reads the waveforms on demand. Depending on your use case, this might not be the optimal scenario. For example, when training a deep learning model, it's usually best to first load all the waveforms into memory, instead of reloading them from disk every epoch. Therefore, SeisBench allows to cache waveforms in memory and to preload them into memory. Here is an example:"
   ]
  },
  {
   "cell_type": "code",
   "execution_count": 21,
   "id": "6be3fb0e",
   "metadata": {},
   "outputs": [
    {
     "name": "stderr",
     "output_type": "stream",
     "text": [
      "2022-06-25 22:23:30,849 | seisbench | WARNING | Check available storage and memory before downloading and general use of Iquique dataset. Dataset size: waveforms.hdf5 ~5Gb, metadata.csv ~2.6Mb\n",
      "Preloading waveforms: 100%|██████████| 13400/13400 [00:58<00:00, 229.52it/s]\n"
     ]
    }
   ],
   "source": [
    "data = sbd.Iquique(cache='trace')\n",
    "data.preload_waveforms(pbar=True)"
   ]
  },
  {
   "cell_type": "markdown",
   "id": "1441a0a7",
   "metadata": {},
   "source": [
    "You can either use a `trace` cache or a `full` cache. Check the documentation for details on these strategies. As a rule of thumb, `trace` should be used if you only need a small fraction of the dataset, while `full` is better suited when using most of the dataset or a full train/dev/test split. Note that `full` might cache traces that you did not actually filter for. On the other side, `full` will have better read performance than `trace` when using many traces.\n",
    "\n",
    "In general, when preloading and filtering a dataset, you should always first filter it and then preload to avoid loading unnecessary traces."
   ]
  },
  {
   "cell_type": "markdown",
   "id": "e947436a",
   "metadata": {},
   "source": [
    "### Visualizing a dataset\n",
    "\n",
    "If you have the package `cartopy` installed, you can visualize your dataset using the method `plot_map`."
   ]
  },
  {
   "cell_type": "code",
   "execution_count": 20,
   "id": "e97f8e25",
   "metadata": {},
   "outputs": [
    {
     "ename": "ModuleNotFoundError",
     "evalue": "Plotting the data set requires cartopy. Please install cartopy, e.g., using conda.",
     "output_type": "error",
     "traceback": [
      "\u001b[0;31m---------------------------------------------------------------------------\u001b[0m",
      "\u001b[0;31mModuleNotFoundError\u001b[0m                       Traceback (most recent call last)",
      "File \u001b[0;32m~/miniconda3/envs/seisbench/lib/python3.10/site-packages/seisbench/data/base.py:1196\u001b[0m, in \u001b[0;36mWaveformDataset.plot_map\u001b[0;34m(self, res, connections, **kwargs)\u001b[0m\n\u001b[1;32m   1195\u001b[0m \u001b[39mtry\u001b[39;00m:\n\u001b[0;32m-> 1196\u001b[0m     \u001b[39mimport\u001b[39;00m \u001b[39mcartopy\u001b[39;00m\u001b[39m.\u001b[39;00m\u001b[39mcrs\u001b[39;00m \u001b[39mas\u001b[39;00m \u001b[39mccrs\u001b[39;00m\n\u001b[1;32m   1197\u001b[0m     \u001b[39mfrom\u001b[39;00m \u001b[39mcartopy\u001b[39;00m\u001b[39m.\u001b[39;00m\u001b[39mmpl\u001b[39;00m\u001b[39m.\u001b[39;00m\u001b[39mgridliner\u001b[39;00m \u001b[39mimport\u001b[39;00m LONGITUDE_FORMATTER, LATITUDE_FORMATTER\n",
      "\u001b[0;31mModuleNotFoundError\u001b[0m: No module named 'cartopy'",
      "\nDuring handling of the above exception, another exception occurred:\n",
      "\u001b[0;31mModuleNotFoundError\u001b[0m                       Traceback (most recent call last)",
      "\u001b[1;32m/home/javak/Transfer-Deep-Learning-chile-subduction-zone/seisbench-examples/01a_dataset_basics.ipynb Cell 45'\u001b[0m in \u001b[0;36m<cell line: 1>\u001b[0;34m()\u001b[0m\n\u001b[0;32m----> <a href='vscode-notebook-cell:/home/javak/Transfer-Deep-Learning-chile-subduction-zone/seisbench-examples/01a_dataset_basics.ipynb#ch0000044?line=0'>1</a>\u001b[0m data\u001b[39m.\u001b[39;49mplot_map()\n",
      "File \u001b[0;32m~/miniconda3/envs/seisbench/lib/python3.10/site-packages/seisbench/data/base.py:1200\u001b[0m, in \u001b[0;36mWaveformDataset.plot_map\u001b[0;34m(self, res, connections, **kwargs)\u001b[0m\n\u001b[1;32m   1198\u001b[0m     \u001b[39mimport\u001b[39;00m \u001b[39mcartopy\u001b[39;00m\u001b[39m.\u001b[39;00m\u001b[39mfeature\u001b[39;00m \u001b[39mas\u001b[39;00m \u001b[39mcfeature\u001b[39;00m\n\u001b[1;32m   1199\u001b[0m \u001b[39mexcept\u001b[39;00m \u001b[39mModuleNotFoundError\u001b[39;00m:\n\u001b[0;32m-> 1200\u001b[0m     \u001b[39mraise\u001b[39;00m \u001b[39mModuleNotFoundError\u001b[39;00m(\n\u001b[1;32m   1201\u001b[0m         \u001b[39m\"\u001b[39m\u001b[39mPlotting the data set requires cartopy. \u001b[39m\u001b[39m\"\u001b[39m\n\u001b[1;32m   1202\u001b[0m         \u001b[39m\"\u001b[39m\u001b[39mPlease install cartopy, e.g., using conda.\u001b[39m\u001b[39m\"\u001b[39m\n\u001b[1;32m   1203\u001b[0m     )\n\u001b[1;32m   1205\u001b[0m ax \u001b[39m=\u001b[39m fig\u001b[39m.\u001b[39madd_subplot(\u001b[39m111\u001b[39m, projection\u001b[39m=\u001b[39mccrs\u001b[39m.\u001b[39mMercator())\n\u001b[1;32m   1207\u001b[0m ax\u001b[39m.\u001b[39mcoastlines(res)\n",
      "\u001b[0;31mModuleNotFoundError\u001b[0m: Plotting the data set requires cartopy. Please install cartopy, e.g., using conda."
     ]
    },
    {
     "data": {
      "text/plain": [
       "<Figure size 1080x720 with 0 Axes>"
      ]
     },
     "metadata": {},
     "output_type": "display_data"
    }
   ],
   "source": [
    "data.plot_map()"
   ]
  },
  {
   "cell_type": "code",
   "execution_count": null,
   "id": "9f292963",
   "metadata": {},
   "outputs": [],
   "source": []
  }
 ],
 "metadata": {
  "kernelspec": {
   "display_name": "Python 3.10.4 ('seisbench')",
   "language": "python",
   "name": "python3"
  },
  "language_info": {
   "codemirror_mode": {
    "name": "ipython",
    "version": 3
   },
   "file_extension": ".py",
   "mimetype": "text/x-python",
   "name": "python",
   "nbconvert_exporter": "python",
   "pygments_lexer": "ipython3",
   "version": "3.10.4"
  },
  "vscode": {
   "interpreter": {
    "hash": "b20746fb6b31a4a3c185d8dc9e67ee27e52a348cdb9134f10f5f04eafa28ce07"
   }
  }
 },
 "nbformat": 4,
 "nbformat_minor": 5
}
